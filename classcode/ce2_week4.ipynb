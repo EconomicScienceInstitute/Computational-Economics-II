{
  "nbformat": 4,
  "nbformat_minor": 0,
  "metadata": {
    "colab": {
      "name": "ce2_week4.ipynb",
      "provenance": [],
      "collapsed_sections": []
    },
    "kernelspec": {
      "name": "python3",
      "display_name": "Python 3"
    }
  },
  "cells": [
    {
      "cell_type": "markdown",
      "metadata": {
        "id": "ffjfsTSKp4S_"
      },
      "source": [
        "# Health Care Bellman"
      ]
    },
    {
      "cell_type": "code",
      "metadata": {
        "id": "TJ7g2kDExc1w",
        "colab": {
          "base_uri": "https://localhost:8080/"
        },
        "outputId": "86e4ffd0-f7b8-4aca-e6f6-60de082a44b0"
      },
      "source": [
        "from collections import namedtuple\n",
        "import math\n",
        "\n",
        "State = namedtuple('State', ['period', 'health'])\n",
        "Action = namedtuple('Action', ['health_inv', 'life_inv'])\n",
        "\n",
        "def harvest(state):\n",
        "    return state.health\n",
        "\n",
        "def end_health(state, action):\n",
        "    k = 0.01021\n",
        "    degened_health = state.health - (10 + state.period)\n",
        "    if degened_health <= 0:\n",
        "        return 0\n",
        "    else:\n",
        "        end_value = 100 * (math.exp(k * action.health_inv) / (math.exp(k * action.health_inv) + ((100 - degened_health) / degened_health)))\n",
        "        return math.floor(end_value)\n",
        "\n",
        "def possible_actions(state):\n",
        "    budget = harvest(state)\n",
        "    return [Action(health_inv, budget - health_inv) for health_inv in range(budget + 1)]\n",
        "\n",
        "def immediate_value(state, action):\n",
        "    c = 464.53\n",
        "    a = 32\n",
        "    return c*(end_health(state, action) / 100) * (action.life_inv / (action.life_inv + a))\n",
        "\n",
        "def transition(state, action):\n",
        "    return State(state.period + 1, end_health(state, action))\n",
        "\n",
        "\n",
        "lookup = {}\n",
        "def opt_health(state):\n",
        "    if state.period > 10 or state.health <= 0:\n",
        "        return (0, '')\n",
        "    if state not in lookup:\n",
        "        best_val = -1\n",
        "        best_action = ''\n",
        "        for action in possible_actions(state):\n",
        "            opt_val = immediate_value(state, action) + 1*opt_health(transition(state, action))[0]\n",
        "            if opt_val > best_val:\n",
        "                best_val = opt_val\n",
        "                best_action = action\n",
        "        lookup[state] = (best_val, best_action)\n",
        "    return lookup[state]\n",
        "\n",
        "init_state = State(1, 70)\n",
        "state = init_state\n",
        "for i in range(10):\n",
        "    val, dec = opt_health(state)\n",
        "    print(state, val, dec)\n",
        "    state = transition(state, dec)\n"
      ],
      "execution_count": null,
      "outputs": [
        {
          "output_type": "stream",
          "text": [
            "State(period=1, health=70) 987.1731108634837 Action(health_inv=57, life_inv=13)\n",
            "State(period=2, health=72) 890.5508708634836 Action(health_inv=58, life_inv=14)\n",
            "State(period=3, health=73) 787.3444230373966 Action(health_inv=58, life_inv=15)\n",
            "State(period=4, health=73) 679.1188166544179 Action(health_inv=57, life_inv=16)\n",
            "State(period=5, health=72) 567.6316166544178 Action(health_inv=56, life_inv=16)\n",
            "State(period=6, health=70) 459.24128332108455 Action(health_inv=54, life_inv=16)\n",
            "State(period=7, health=67) 355.49624998775124 Action(health_inv=48, life_inv=19)\n",
            "State(period=8, health=62) 248.19892841912377 Action(health_inv=36, life_inv=26)\n",
            "State(period=9, health=53) 137.8330077294686 Action(health_inv=13, life_inv=40)\n",
            "State(period=10, health=37) 42.346285507246385 Action(health_inv=0, life_inv=37)\n"
          ],
          "name": "stdout"
        }
      ]
    },
    {
      "cell_type": "markdown",
      "metadata": {
        "id": "yi3kcZt5p9Ao"
      },
      "source": [
        "# Line Wrap Bellman"
      ]
    },
    {
      "cell_type": "code",
      "metadata": {
        "colab": {
          "base_uri": "https://localhost:8080/"
        },
        "id": "ACpPuyzCqDc9",
        "outputId": "e4f563d5-087b-4aa7-d00d-c6d556f907fe"
      },
      "source": [
        "from itertools import islice\n",
        "\n",
        "words = 'Lorem ipsum dolor sit amet, consectetur adipiscing elit. Morbi pharetra orci quis libero pretium feugiat. Praesent vel viverra mauris, vitae imperdiet eros. Integer semper elementum ligula. Nunc volutpat tortor et aliquet fringilla. Ut vulputate egestas metus, a ullamcorper enim gravida et. Cras massa turpis, consequat sit amet euismod sit amet, feugiat id dui. Nullam ut dolor pellentesque, molestie felis id, volutpat purus. Nullam lacus sem, congue vitae elementum eu, lobortis sed augue. Vestibulum vehicula ultricies diam sed venenatis. Suspendisse blandit dictum est, sit amet pulvinar massa efficitur sed. Proin auctor, velit maximus egestas dictum, enim urna fringilla sapien, efficitur posuere dolor lorem in erat. Sed pulvinar et lectus suscipit blandit.'.split()\n",
        "width = 70\n",
        "# words = 'The quick brown fox jumps over the lazy dog'.split()\n",
        "# words = ['aaa', 'bb', 'cc', 'ddddd']\n",
        "word_lengths = list(map(len, words))\n",
        "\n",
        "# width = 14\n",
        "# width = 6\n",
        "def needed_space(n, a):\n",
        "    length = a-1\n",
        "    for i in range(a):\n",
        "        length += word_lengths[-n + i]\n",
        "    return length\n",
        "\n",
        "def possible_actions(n):\n",
        "    actions = []\n",
        "    a = 1\n",
        "    while a <= n and needed_space(n, a) <= width:\n",
        "        actions.append(a)\n",
        "        a += 1\n",
        "    return actions\n",
        "\n",
        "def transition(n, a):\n",
        "    return n-a\n",
        "\n",
        "def immediate_value(n, a):\n",
        "    return -(width-needed_space(n, a))**2\n",
        "\n",
        "def get_best_rag(n):\n",
        "  action_values = [immediate_value(n,a) + line_wrap(transition(n,a))[0] for a in possible_actions(n)]\n",
        "  return max(action_values)\n",
        "\n",
        "def value_action(n, a):\n",
        "  return (immediate_value(n,a) + line_wrap(transition(n,a))[0], a)\n",
        "\n",
        "def get_best_rag_action2(n):\n",
        "  return max(value_action(n,a) for a in possible_actions(n))\n",
        "\n",
        "def get_best_rag_action(n):\n",
        "  best_rag, best_action = None, None\n",
        "  for a in possible_actions(n):\n",
        "    immediate_rag = immediate_value(n, a)\n",
        "    future_rag = line_wrap(transition(n, a))[0]\n",
        "    if not best_action or (immediate_rag + future_rag) > best_rag:\n",
        "      best_rag, best_action = rag, a\n",
        "  return best_rag, best_action\n",
        "\n",
        "lookup = {}\n",
        "def line_wrap(n):\n",
        "    if n == 0:\n",
        "        return (0, '')\n",
        "    if n not in lookup:\n",
        "        best_rag, best_action = get_best_rag_action(n)\n",
        "        lookup[n] = (best_rag, best_action)\n",
        "    return lookup[n]\n",
        "\n",
        "\n",
        "# print(possible_actions(3))\n",
        "# print(needed_space(3, 1))\n",
        "# print(needed_space(3, 2))\n",
        "# print(needed_space(3, 3))\n",
        "\n",
        "print(-line_wrap(len(words))[0])\n",
        "\n",
        "state = len(words)\n",
        "lengths = []\n",
        "while state > 0:\n",
        "    val, dec = line_wrap(state)\n",
        "    lengths.append(dec)\n",
        "    state = transition(state, dec)\n",
        "\n",
        "it = iter(words)\n",
        "sliced =[list(islice(it, 0, i)) for i in lengths]\n",
        "for line in sliced:\n",
        "    s = ' '.join(line)\n",
        "    rem_w = width - len(s)\n",
        "    print(s + ' '*rem_w + '|')\n"
      ],
      "execution_count": null,
      "outputs": [
        {
          "output_type": "stream",
          "text": [
            "669\n",
            "Lorem ipsum dolor sit amet, consectetur adipiscing elit. Morbi        |\n",
            "pharetra orci quis libero pretium feugiat. Praesent vel viverra       |\n",
            "mauris, vitae imperdiet eros. Integer semper elementum ligula.        |\n",
            "Nunc volutpat tortor et aliquet fringilla. Ut vulputate egestas       |\n",
            "metus, a ullamcorper enim gravida et. Cras massa turpis, consequat    |\n",
            "sit amet euismod sit amet, feugiat id dui. Nullam ut dolor            |\n",
            "pellentesque, molestie felis id, volutpat purus. Nullam lacus sem,    |\n",
            "congue vitae elementum eu, lobortis sed augue. Vestibulum vehicula    |\n",
            "ultricies diam sed venenatis. Suspendisse blandit dictum est, sit     |\n",
            "amet pulvinar massa efficitur sed. Proin auctor, velit maximus        |\n",
            "egestas dictum, enim urna fringilla sapien, efficitur posuere         |\n",
            "dolor lorem in erat. Sed pulvinar et lectus suscipit blandit.         |\n"
          ],
          "name": "stdout"
        }
      ]
    },
    {
      "cell_type": "code",
      "metadata": {
        "id": "ziFB5hfnupkk"
      },
      "source": [
        "n = len(words)\n",
        "action_values = [(immediate_value(n,a) + line_wrap(transition(n,a))[0], a) for a in possible_actions(n)]"
      ],
      "execution_count": null,
      "outputs": []
    },
    {
      "cell_type": "code",
      "metadata": {
        "colab": {
          "base_uri": "https://localhost:8080/"
        },
        "id": "pRBzPLGouDQv",
        "outputId": "0da89efd-0c01-4190-9fa4-9dca1bf7d1ab"
      },
      "source": [
        "action_values"
      ],
      "execution_count": null,
      "outputs": [
        {
          "output_type": "execute_result",
          "data": {
            "text/plain": [
              "[(-5002, 1),\n",
              " (-3587, 2),\n",
              " (-2955, 3),\n",
              " (-2563, 4),\n",
              " (-2055, 5),\n",
              " (-1281, 6),\n",
              " (-837, 7),\n",
              " (-713, 8),\n",
              " (-669, 9)]"
            ]
          },
          "metadata": {
            "tags": []
          },
          "execution_count": 12
        }
      ]
    },
    {
      "cell_type": "markdown",
      "metadata": {
        "id": "8FORm-QurbIc"
      },
      "source": [
        "# Egg Drop Bellman"
      ]
    },
    {
      "cell_type": "code",
      "metadata": {
        "colab": {
          "base_uri": "https://localhost:8080/"
        },
        "id": "xt3TEEFrqR-F",
        "outputId": "bf013b66-a45a-4203-8558-bf9a9e5185af"
      },
      "source": [
        "from collections import namedtuple\n",
        "\n",
        "State = namedtuple('State', ['floors', 'eggs'])\n",
        "def possible_actions(state):\n",
        "  return range(1, state.floors + 1)\n",
        "\n",
        "def immediate_value(state, action):\n",
        "  return 1\n",
        "\n",
        "# Worst case transition\n",
        "def transition(state, action):\n",
        "  survive_state = State(state.floors-action, state.eggs)\n",
        "  break_state = State(action-1, state.eggs-1)\n",
        "  if egg_drop(survive_state) > egg_drop(break_state):\n",
        "    return survive_state\n",
        "  else:\n",
        "    return break_state\n",
        "\n",
        "lookup = {}\n",
        "def egg_drop(state):\n",
        "  if state.floors == 0:\n",
        "    return 0\n",
        "  if state.eggs == 0:\n",
        "    return 1000000\n",
        "  if state not in lookup:\n",
        "    lookup[state] = min(immediate_value(state, action) + egg_drop(transition(state, action))\n",
        "                             for action in possible_actions(state))\n",
        "  return lookup[state]\n",
        "\n",
        "egg_drop(State(100, 5))\n"
      ],
      "execution_count": null,
      "outputs": [
        {
          "output_type": "execute_result",
          "data": {
            "text/plain": [
              "7"
            ]
          },
          "metadata": {
            "tags": []
          },
          "execution_count": 1
        }
      ]
    },
    {
      "cell_type": "code",
      "metadata": {
        "id": "xbqYOdHEvDXs"
      },
      "source": [
        ""
      ],
      "execution_count": null,
      "outputs": []
    }
  ]
}