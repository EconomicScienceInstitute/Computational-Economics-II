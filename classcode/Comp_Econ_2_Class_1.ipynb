{
  "nbformat": 4,
  "nbformat_minor": 0,
  "metadata": {
    "colab": {
      "name": "Comp Econ 2 Class 1.ipynb",
      "provenance": [],
      "collapsed_sections": []
    },
    "kernelspec": {
      "name": "python3",
      "display_name": "Python 3"
    }
  },
  "cells": [
    {
      "cell_type": "code",
      "metadata": {
        "id": "uWmgnAvNofTm"
      },
      "source": [
        "def hanoi(n,start,end,using):\n",
        "  if n ==1:\n",
        "    print(f\"{start} to {end}\")\n",
        "  else:\n",
        "    hanoi(n-1,start,using,end)\n",
        "    print(f\"{start} to {end}\")\n",
        "    hanoi(n-1,using,end,start)\n"
      ],
      "execution_count": null,
      "outputs": []
    },
    {
      "cell_type": "code",
      "metadata": {
        "id": "p99VMHU6o2_N"
      },
      "source": [
        "cache = {0:1,1:1}\n",
        "def fibonacci(n):\n",
        "  if n in cache:\n",
        "    pass\n",
        "  else:\n",
        "    cache[n] = fibonacci(n-1)+fibonacci(n-2)\n",
        "  return cache[n]"
      ],
      "execution_count": null,
      "outputs": []
    },
    {
      "cell_type": "code",
      "metadata": {
        "colab": {
          "base_uri": "https://localhost:8080/"
        },
        "id": "1xBhYk8GvdLh",
        "outputId": "89f0aff6-5b68-45ad-e427-ba2c4c7597ad"
      },
      "source": [
        "fibonacci(5)"
      ],
      "execution_count": null,
      "outputs": [
        {
          "output_type": "execute_result",
          "data": {
            "text/plain": [
              "8"
            ]
          },
          "metadata": {
            "tags": []
          },
          "execution_count": 6
        }
      ]
    },
    {
      "cell_type": "code",
      "metadata": {
        "colab": {
          "base_uri": "https://localhost:8080/"
        },
        "id": "QRzw0UyDveVm",
        "outputId": "9c65a77d-e731-4a2b-8b39-17f76b234433"
      },
      "source": [
        "fibonacci(6)"
      ],
      "execution_count": null,
      "outputs": [
        {
          "output_type": "execute_result",
          "data": {
            "text/plain": [
              "13"
            ]
          },
          "metadata": {
            "tags": []
          },
          "execution_count": 7
        }
      ]
    },
    {
      "cell_type": "code",
      "metadata": {
        "colab": {
          "base_uri": "https://localhost:8080/"
        },
        "id": "kK9qM5ynvuRf",
        "outputId": "e3917575-0667-4543-e741-c6116d8f022c"
      },
      "source": [
        "def fib_bottom_up(n):\n",
        "  prev=1\n",
        "  cur = 1\n",
        "  for _ in range(n-2):\n",
        "    nxt = prev+cur\n",
        "    prev=cur\n",
        "    cur = nxt\n",
        "  return nxt\n",
        "\n",
        "print(fib_bottom_up(200))"
      ],
      "execution_count": null,
      "outputs": [
        {
          "output_type": "stream",
          "text": [
            "280571172992510140037611932413038677189525\n"
          ],
          "name": "stdout"
        }
      ]
    },
    {
      "cell_type": "markdown",
      "metadata": {
        "id": "Ynv-zT1rwcav"
      },
      "source": [
        "# 1\n",
        "\n",
        "Suppose that you have staircase with n steps on it. You can go up 1, 2, or 3 steps at a time.\n",
        "\n",
        "How many different ways can you climb up the staircase?"
      ]
    },
    {
      "cell_type": "code",
      "metadata": {
        "id": "E-cfVLjnws8k"
      },
      "source": [
        "def climb_stairs(n):\n",
        "  if n <0:\n",
        "    return 0\n",
        "  if n==0:\n",
        "    return 1 else climb_stairs(n-1)+climb_stairs(n-2)+climb_stairs(n-3)"
      ],
      "execution_count": null,
      "outputs": []
    },
    {
      "cell_type": "code",
      "metadata": {
        "id": "368Wx-z65oRQ"
      },
      "source": [
        "def staircase(n):\n",
        "  cache = {}\n",
        "  return staircase_rec(n,cache)\n",
        "\n",
        "def staircase_rec(n,cache):\n",
        "  if n <0:\n",
        "    return 0\n",
        "  if n in cache:\n",
        "    return cache[n]\n",
        "  cache[n] =  1 if n==0 else (staircase_rec(n-1,cache) +\n",
        "    staircase_rec(n-2,cache) +\n",
        "   staircase_rec(n-3,cache))\n",
        "  return cache[n]\n"
      ],
      "execution_count": null,
      "outputs": []
    },
    {
      "cell_type": "markdown",
      "metadata": {
        "id": "L9IhXj5O8R5J"
      },
      "source": [
        "you have n bricks and want to make a staircase.\n",
        "\n",
        "Restriction:\n",
        "- must have at least two steps\n",
        "- step height is always decreasing\n",
        "\n",
        "How many unique staircases\n"
      ]
    },
    {
      "cell_type": "markdown",
      "metadata": {
        "id": "pFvlZ4cseAUL"
      },
      "source": [
        "# Algorithm explained:\n",
        "\n",
        "## min_height\n",
        "\n",
        "## Recursive call\n",
        "\n"
      ]
    },
    {
      "cell_type": "code",
      "metadata": {
        "id": "xjmWA3Jw_VUC"
      },
      "source": [
        "def bricks(n,cache={}):\n",
        "  if n<3:\n",
        "    return 0,cache\n",
        "  result = 0\n",
        "  for h in range(min_height(n),n):\n",
        "    result += bricks_rec(n-h,h,cache)\n",
        "  return (result,cache)\n",
        "\n",
        "def min_height(n):\n",
        "  return 0 if n<=0 else int(-1+(1+8*n)**(1/2))//2\n",
        "\n",
        "def bricks_rec(n,h,cache):\n",
        "  if n <= 2:\n",
        "    return 1 if n<h else 0\n",
        "  if (n,h) in cache:\n",
        "    return cache[(n,h)]\n",
        "  \n",
        "  results = 0\n",
        "  for h_new in range(min_height(n),min(h,n+1)):\n",
        "    if (n-h_new,h_new) in cache:\n",
        "      results += cache[(n-h_new,h_new)]\n",
        "    else:\n",
        "      cache[(n-h_new,h_new)] = bricks_rec(n-h_new,h_new,cache)\n",
        "      results += cache[(n-h_new,h_new)]\n",
        "  cache[(n,h)] = results\n",
        "  return results"
      ],
      "execution_count": null,
      "outputs": []
    },
    {
      "cell_type": "code",
      "metadata": {
        "colab": {
          "base_uri": "https://localhost:8080/"
        },
        "id": "ue7Yl2GzA7kl",
        "outputId": "c4b3c3a5-b7c0-4cc3-bd16-231d7ea0d719"
      },
      "source": [
        "solutions = [bricks(i) for i in range(10)]\n",
        "for i,(result,cache) in enumerate(solutions):\n",
        "  print(f\"{i} \\t {result}\")"
      ],
      "execution_count": null,
      "outputs": [
        {
          "output_type": "stream",
          "text": [
            "0 \t 0\n",
            "1 \t 0\n",
            "2 \t 0\n",
            "3 \t 1\n",
            "4 \t 1\n",
            "5 \t 2\n",
            "6 \t 3\n",
            "7 \t 4\n",
            "8 \t 5\n",
            "9 \t 7\n"
          ],
          "name": "stdout"
        }
      ]
    },
    {
      "cell_type": "code",
      "metadata": {
        "colab": {
          "base_uri": "https://localhost:8080/"
        },
        "id": "u8i_Z30Cd7Gi",
        "outputId": "5fffbc6f-bbf2-4f1e-9280-2befa8c8489a"
      },
      "source": [
        "\n",
        "cache[(5,4)]"
      ],
      "execution_count": null,
      "outputs": [
        {
          "output_type": "execute_result",
          "data": {
            "text/plain": [
              "1"
            ]
          },
          "metadata": {
            "tags": []
          },
          "execution_count": 151
        }
      ]
    },
    {
      "cell_type": "code",
      "metadata": {
        "colab": {
          "base_uri": "https://localhost:8080/",
          "height": 306
        },
        "id": "Iu9R4QdKnuQS",
        "outputId": "3041f100-e363-46fd-9c1b-a35f29855c74"
      },
      "source": [
        "bricks_rec(4,4,{})"
      ],
      "execution_count": null,
      "outputs": [
        {
          "output_type": "error",
          "ename": "TypeError",
          "evalue": "ignored",
          "traceback": [
            "\u001b[0;31m---------------------------------------------------------------------------\u001b[0m",
            "\u001b[0;31mTypeError\u001b[0m                                 Traceback (most recent call last)",
            "\u001b[0;32m<ipython-input-140-7568f12f50e8>\u001b[0m in \u001b[0;36m<module>\u001b[0;34m()\u001b[0m\n\u001b[0;32m----> 1\u001b[0;31m \u001b[0mbricks_rec\u001b[0m\u001b[0;34m(\u001b[0m\u001b[0;36m4\u001b[0m\u001b[0;34m,\u001b[0m\u001b[0;36m4\u001b[0m\u001b[0;34m,\u001b[0m\u001b[0;34m{\u001b[0m\u001b[0;34m}\u001b[0m\u001b[0;34m)\u001b[0m\u001b[0;34m\u001b[0m\u001b[0;34m\u001b[0m\u001b[0m\n\u001b[0m",
            "\u001b[0;32m<ipython-input-139-c948cf524a79>\u001b[0m in \u001b[0;36mbricks_rec\u001b[0;34m(n, h, cache)\u001b[0m\n\u001b[1;32m     12\u001b[0m \u001b[0;34m\u001b[0m\u001b[0m\n\u001b[1;32m     13\u001b[0m \u001b[0;32mdef\u001b[0m \u001b[0mbricks_rec\u001b[0m\u001b[0;34m(\u001b[0m\u001b[0mn\u001b[0m\u001b[0;34m,\u001b[0m\u001b[0mh\u001b[0m\u001b[0;34m,\u001b[0m\u001b[0mcache\u001b[0m\u001b[0;34m)\u001b[0m\u001b[0;34m:\u001b[0m\u001b[0;34m\u001b[0m\u001b[0;34m\u001b[0m\u001b[0m\n\u001b[0;32m---> 14\u001b[0;31m   \u001b[0mprint\u001b[0m\u001b[0;34m(\u001b[0m\u001b[0;34m{\u001b[0m\u001b[0;34m(\u001b[0m\u001b[0mn\u001b[0m\u001b[0;34m,\u001b[0m\u001b[0mh\u001b[0m\u001b[0;34m,\u001b[0m\u001b[0mcache\u001b[0m\u001b[0;34m)\u001b[0m\u001b[0;34m}\u001b[0m\u001b[0;34m)\u001b[0m\u001b[0;34m\u001b[0m\u001b[0;34m\u001b[0m\u001b[0m\n\u001b[0m\u001b[1;32m     15\u001b[0m   \u001b[0;32mif\u001b[0m \u001b[0mn\u001b[0m \u001b[0;34m<=\u001b[0m \u001b[0;36m2\u001b[0m\u001b[0;34m:\u001b[0m\u001b[0;34m\u001b[0m\u001b[0;34m\u001b[0m\u001b[0m\n\u001b[1;32m     16\u001b[0m     \u001b[0;32mreturn\u001b[0m \u001b[0;36m1\u001b[0m \u001b[0;32mif\u001b[0m \u001b[0mn\u001b[0m\u001b[0;34m<\u001b[0m\u001b[0mh\u001b[0m \u001b[0;32melse\u001b[0m \u001b[0;36m0\u001b[0m\u001b[0;34m\u001b[0m\u001b[0;34m\u001b[0m\u001b[0m\n",
            "\u001b[0;31mTypeError\u001b[0m: unhashable type: 'dict'"
          ]
        }
      ]
    }
  ]
}