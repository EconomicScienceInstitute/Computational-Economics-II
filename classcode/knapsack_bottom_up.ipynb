{
  "nbformat": 4,
  "nbformat_minor": 0,
  "metadata": {
    "colab": {
      "name": "knapsack_bottom_up.ipynb",
      "provenance": [],
      "collapsed_sections": []
    },
    "kernelspec": {
      "name": "python3",
      "display_name": "Python 3"
    }
  },
  "cells": [
    {
      "cell_type": "code",
      "metadata": {
        "id": "kNszQ7eO458P"
      },
      "source": [
        "n = 5\n",
        "weights = [1, 2, 3, 4, 5]\n",
        "values = [6, 8, 10, 13, 17]\n",
        "max_weight = 8\n",
        "\n",
        "\n",
        "# Initialize lookup table\n",
        "lookup = [[None] * (max_weight + 1) for _ in range(n + 1)]\n",
        "def bottom_up_knapsack():\n",
        "  # Set base case to be worth 0\n",
        "  lookup[0] = [(0, '')] * (max_weight + 1)\n",
        "  for n_rem in range(1, n + 1):\n",
        "    weight = weights[-n_rem]\n",
        "    value = values[-n_rem]\n",
        "    for w_rem in range(max_weight + 1):\n",
        "      will_fit = weight <= w_rem\n",
        "      val_no_add = 0 + lookup[n_rem - 1][w_rem][0]\n",
        "      if not will_fit:\n",
        "        lookup[n_rem][w_rem] = (val_no_add, 'N')\n",
        "      else:\n",
        "        val_add = value + lookup[n_rem - 1][w_rem - weight][0]\n",
        "        if val_add > val_no_add:\n",
        "          lookup[n_rem][w_rem] = (val_add, 'Y')\n",
        "        else:\n",
        "          lookup[n_rem][w_rem] = (val_no_add, 'N')"
      ],
      "execution_count": null,
      "outputs": []
    },
    {
      "cell_type": "code",
      "metadata": {
        "colab": {
          "base_uri": "https://localhost:8080/"
        },
        "id": "Y0mqWyFW5DX4",
        "outputId": "5e4e4b11-7d91-47b1-ea93-39cbef8ced80"
      },
      "source": [
        "# Fill in the table\n",
        "bottom_up_knapsack()\n",
        "\n",
        "# Print table one row at a time\n",
        "for row in lookup:\n",
        "    print(row)"
      ],
      "execution_count": null,
      "outputs": [
        {
          "output_type": "stream",
          "text": [
            "[(0, ''), (0, ''), (0, ''), (0, ''), (0, ''), (0, ''), (0, ''), (0, ''), (0, '')]\n",
            "[(0, 'N'), (0, 'N'), (0, 'N'), (0, 'N'), (0, 'N'), (17, 'Y'), (17, 'Y'), (17, 'Y'), (17, 'Y')]\n",
            "[(0, 'N'), (0, 'N'), (0, 'N'), (0, 'N'), (13, 'Y'), (17, 'N'), (17, 'N'), (17, 'N'), (17, 'N')]\n",
            "[(0, 'N'), (0, 'N'), (0, 'N'), (10, 'Y'), (13, 'N'), (17, 'N'), (17, 'N'), (23, 'Y'), (27, 'Y')]\n",
            "[(0, 'N'), (0, 'N'), (8, 'Y'), (10, 'N'), (13, 'N'), (18, 'Y'), (21, 'Y'), (25, 'Y'), (27, 'N')]\n",
            "[(0, 'N'), (6, 'Y'), (8, 'N'), (14, 'Y'), (16, 'Y'), (19, 'Y'), (24, 'Y'), (27, 'Y'), (31, 'Y')]\n"
          ],
          "name": "stdout"
        }
      ]
    }
  ]
}