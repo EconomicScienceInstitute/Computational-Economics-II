{
  "nbformat": 4,
  "nbformat_minor": 0,
  "metadata": {
    "colab": {
      "name": "ce2_week2_class.ipynb",
      "provenance": []
    },
    "kernelspec": {
      "name": "python3",
      "display_name": "Python 3"
    }
  },
  "cells": [
    {
      "cell_type": "markdown",
      "metadata": {
        "id": "gjsgCGESOLu5"
      },
      "source": [
        "# Staircase"
      ]
    },
    {
      "cell_type": "code",
      "metadata": {
        "id": "sRSEt0Y9McdB"
      },
      "source": [
        "def get_possible_stair_count(n_bricks):\n",
        "    # max height initialized to n_bricks - 1 to prevent using all bricks on first step\n",
        "    return get_possible_stair_count_rec(n_bricks, n_bricks - 1, {})\n",
        "\n",
        "def get_possible_stair_count_rec(n_bricks, max_height, lookup):\n",
        "    # Valid endpoint if we used all the bricks\n",
        "    if n_bricks == 0:\n",
        "        return 1\n",
        "    # If we still have bricks but max step-size is 0, this is an invalid combination.\n",
        "    # Note: because the for loop will short out if max_height is 0, this is not required\n",
        "    if max_height == 0:\n",
        "        return 0\n",
        "    if (n_bricks, max_height) not in lookup:\n",
        "        count = 0\n",
        "        for step_size in range(1, max_height + 1):\n",
        "            rem_bricks = n_bricks - step_size\n",
        "            rem_max_height = min(rem_bricks, step_size - 1)\n",
        "            count += get_possible_stair_count_rec(rem_bricks, rem_max_height, lookup)\n",
        "        lookup[(n_bricks, max_height)] = count\n",
        "    return lookup[(n_bricks, max_height)]\n",
        "\n",
        "print([(i, get_possible_stair_count(i)) for i in range(-2, 10)])\n",
        "print(get_possible_stair_count(500))\n"
      ],
      "execution_count": null,
      "outputs": []
    },
    {
      "cell_type": "markdown",
      "metadata": {
        "id": "IIinFEWSMZyp"
      },
      "source": [
        "# Egg Drop"
      ]
    },
    {
      "cell_type": "code",
      "metadata": {
        "id": "bTw9Ld6BMGH2"
      },
      "source": [
        "n_floors = 100\n",
        "n_eggs = 5\n",
        "\n",
        "opt_worst_case = [[None] * (n_floors+1) for _ in range(n_eggs)]\n",
        "opt_worst_case[0] = [(1, i) for i in range(n_floors + 1)]\n",
        "for i in range(n_eggs):\n",
        "    opt_worst_case[i][0] = (0,0)\n",
        "\n",
        "for k in range(1, n_eggs):\n",
        "    for n_rem_floors in range(1, n_floors + 1):\n",
        "        best_floor = -1\n",
        "        opt_worst = n_floors + 1\n",
        "        for test_floor in range(1, n_rem_floors + 1):\n",
        "            n_if_break = 1 + opt_worst_case[k-1][test_floor-1][1]\n",
        "            n_if_survive = 1 + opt_worst_case[k][n_rem_floors - test_floor][1]\n",
        "            worst_case = max(n_if_break, n_if_survive)\n",
        "            if worst_case < opt_worst:\n",
        "                best_floor = test_floor\n",
        "                opt_worst = worst_case\n",
        "        opt_worst_case[k][n_rem_floors] = (best_floor, opt_worst)\n",
        "n = 0\n",
        "for col in zip(*opt_worst_case):\n",
        "    print(n, col)\n",
        "    n+=1\n"
      ],
      "execution_count": null,
      "outputs": []
    }
  ]
}