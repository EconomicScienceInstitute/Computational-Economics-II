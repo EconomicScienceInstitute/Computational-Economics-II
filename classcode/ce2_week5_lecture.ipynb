{
  "nbformat": 4,
  "nbformat_minor": 0,
  "metadata": {
    "colab": {
      "name": "ce2_week5_lecture.ipynb",
      "provenance": []
    },
    "kernelspec": {
      "name": "python3",
      "display_name": "Python 3"
    }
  },
  "cells": [
    {
      "cell_type": "code",
      "metadata": {
        "colab": {
          "base_uri": "https://localhost:8080/"
        },
        "id": "zw3fZK8IUXFK",
        "outputId": "ad7fb8da-57f7-4bba-afa8-0912c13005f0"
      },
      "source": [
        "import numpy as np\n",
        "\n",
        "prob_sunny = 1.0\n",
        "prob_rainy = 0.0\n",
        "print(prob_sunny, prob_rainy)\n",
        "for i in range(10):\n",
        "    next_sunny = prob_sunny * 0.9 + prob_rainy * 0.5\n",
        "    next_rainy = prob_sunny * 0.1 + prob_rainy * 0.5\n",
        "    prob_sunny, prob_rainy = next_sunny, next_rainy\n",
        "    print(prob_sunny, prob_rainy)\n",
        "\n",
        "\n",
        "probs = np.array([1, 0])\n",
        "transition_matrix = np.matrix([[0.9, 0.1], [0.5, 0.5]])\n",
        "print(transition_matrix)\n",
        "print(probs)\n",
        "for i in range(10):\n",
        "    probs = probs * transition_matrix\n",
        "    print(probs)\n",
        "\n",
        "print(np.linalg.eig(np.transpose(transition_matrix)))"
      ],
      "execution_count": null,
      "outputs": [
        {
          "output_type": "stream",
          "text": [
            "1.0 0.0\n",
            "0.9 0.1\n",
            "0.8600000000000001 0.14\n",
            "0.8440000000000001 0.15600000000000003\n",
            "0.8376000000000001 0.16240000000000004\n",
            "0.8350400000000002 0.16496000000000005\n",
            "0.8340160000000002 0.16598400000000005\n",
            "0.8336064000000003 0.16639360000000003\n",
            "0.8334425600000004 0.16655744000000006\n",
            "0.8333770240000004 0.1666229760000001\n",
            "0.8333508096000004 0.1666491904000001\n",
            "[[0.9 0.1]\n",
            " [0.5 0.5]]\n",
            "[1 0]\n",
            "[[0.9 0.1]]\n",
            "[[0.86 0.14]]\n",
            "[[0.844 0.156]]\n",
            "[[0.8376 0.1624]]\n",
            "[[0.83504 0.16496]]\n",
            "[[0.834016 0.165984]]\n",
            "[[0.8336064 0.1663936]]\n",
            "[[0.83344256 0.16655744]]\n",
            "[[0.83337702 0.16662298]]\n",
            "[[0.83335081 0.16664919]]\n",
            "(array([1. , 0.4]), matrix([[ 0.98058068, -0.70710678],\n",
            "        [ 0.19611614,  0.70710678]]))\n"
          ],
          "name": "stdout"
        }
      ]
    },
    {
      "cell_type": "code",
      "metadata": {
        "id": "sAq_cIE8Ucew"
      },
      "source": [
        ""
      ],
      "execution_count": null,
      "outputs": []
    }
  ]
}