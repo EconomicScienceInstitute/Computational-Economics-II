{
  "nbformat": 4,
  "nbformat_minor": 0,
  "metadata": {
    "colab": {
      "name": "ce2_week3_lecture.ipynb",
      "provenance": []
    },
    "kernelspec": {
      "name": "python3",
      "display_name": "Python 3"
    }
  },
  "cells": [
    {
      "cell_type": "code",
      "metadata": {
        "colab": {
          "base_uri": "https://localhost:8080/"
        },
        "id": "ISbS57XRSAUl",
        "outputId": "6d103581-153f-4972-dfe5-a2153791fb93"
      },
      "source": [
        "import random\n",
        "\n",
        "# n = 5\n",
        "# weights = [1, 2, 3, 4, 5]\n",
        "# values = [6, 8, 10, 13, 17]\n",
        "n = 40\n",
        "weights = list(range(n))\n",
        "values = [random.randint(1, 100) for _ in range(n)]\n",
        "max_weight = sum(weights) // 2\n",
        "\n",
        "lookup = {}\n",
        "def knapsack(n_items, rem_weight):\n",
        "    if n_items <= 0:\n",
        "        return ('', 0)\n",
        "    if (n_items, rem_weight) in lookup:\n",
        "        return lookup[(n_items, rem_weight)]\n",
        "    weight = weights[-n_items]\n",
        "    no_policy, no_value = knapsack(n_items-1, rem_weight)\n",
        "    no_value += 0\n",
        "    result = ('N' + no_policy, no_value)\n",
        "    if rem_weight >= weight:\n",
        "        yes_policy, yes_value = knapsack(n_items-1, rem_weight-weight)\n",
        "        yes_value += values[-n_items]\n",
        "        if yes_value > no_value:\n",
        "            result = ('Y' + yes_policy, yes_value)\n",
        "    lookup[(n_items, rem_weight)] = result\n",
        "    return result\n",
        "\n",
        "print(weights)\n",
        "print(values)\n",
        "print(knapsack(n, max_weight))"
      ],
      "execution_count": null,
      "outputs": [
        {
          "output_type": "stream",
          "text": [
            "[0, 1, 2, 3, 4, 5, 6, 7, 8, 9, 10, 11, 12, 13, 14, 15, 16, 17, 18, 19, 20, 21, 22, 23, 24, 25, 26, 27, 28, 29, 30, 31, 32, 33, 34, 35, 36, 37, 38, 39]\n",
            "[27, 96, 6, 57, 75, 90, 16, 65, 21, 37, 94, 32, 35, 78, 43, 36, 55, 88, 44, 6, 42, 70, 53, 72, 45, 33, 15, 20, 40, 96, 84, 11, 77, 67, 30, 24, 69, 3, 56, 55]\n",
            "('YYYYYYYYYYYYYYYNYYYNYYYYYNNNNYYNYYNNNNNN', 1565)\n"
          ],
          "name": "stdout"
        }
      ]
    },
    {
      "cell_type": "code",
      "metadata": {
        "colab": {
          "base_uri": "https://localhost:8080/"
        },
        "id": "Zm46RhpeSIp5",
        "outputId": "4b5204e9-66f1-4513-dd85-fc30100117f2"
      },
      "source": [
        "lookup = {}\n",
        "# state = (n_items, rem_weight)\n",
        "def possible_actions(state):\n",
        "    item_weight = weights[-state[0]]\n",
        "    if item_weight > state[1]:\n",
        "        return ['N']\n",
        "    else:\n",
        "        return ['N', 'Y']\n",
        "\n",
        "def next_state(state, action):\n",
        "    if action == 'N':\n",
        "        return (state[0]-1, state[1])\n",
        "    else:\n",
        "        item_weight = weights[-state[0]]\n",
        "        return (state[0]-1, state[1] - item_weight)\n",
        "\n",
        "def immediate_value(state, action):\n",
        "    if action == 'N':\n",
        "        return 0\n",
        "    else:\n",
        "        return values[-state[0]]\n",
        "\n",
        "def knapsack_bellman(state):\n",
        "    if state[0] <= 0:\n",
        "        return 0\n",
        "    if state not in lookup:\n",
        "        opt_value = max([\n",
        "            immediate_value(state, action) + 1*knapsack_bellman(next_state(state, action))\n",
        "            for action in possible_actions(state)])\n",
        "        lookup[state] = opt_value\n",
        "    return lookup[state]\n",
        "\n",
        "print(weights)\n",
        "print(values)\n",
        "print(knapsack_bellman((n, max_weight)))"
      ],
      "execution_count": null,
      "outputs": [
        {
          "output_type": "stream",
          "text": [
            "[0, 1, 2, 3, 4, 5, 6, 7, 8, 9, 10, 11, 12, 13, 14, 15, 16, 17, 18, 19, 20, 21, 22, 23, 24, 25, 26, 27, 28, 29, 30, 31, 32, 33, 34, 35, 36, 37, 38, 39]\n",
            "[88, 76, 81, 69, 49, 71, 25, 92, 25, 80, 14, 84, 77, 51, 85, 50, 91, 31, 21, 45, 100, 24, 69, 65, 28, 63, 14, 21, 30, 43, 89, 48, 35, 6, 17, 29, 35, 31, 97, 72]\n",
            "1773\n"
          ],
          "name": "stdout"
        }
      ]
    },
    {
      "cell_type": "code",
      "metadata": {
        "id": "Pkt7Tk9CSRy8"
      },
      "source": [
        ""
      ],
      "execution_count": null,
      "outputs": []
    }
  ]
}