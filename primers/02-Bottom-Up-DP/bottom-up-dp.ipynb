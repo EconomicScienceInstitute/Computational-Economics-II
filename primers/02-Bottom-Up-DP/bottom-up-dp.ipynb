{
 "cells": [
  {
   "cell_type": "markdown",
   "metadata": {},
   "source": [
    "When we were discussing recursion we had two ways of doing things. We either used dictionaries for a top-down/memoization approach or a bottom-up/tabulation approach using array indices. Both are valid and both can be quite fast if done correctly. Memoization tends to be easier to read and write while tabulation tends to require less memory. Both should have approximately the same Big O runtime if they are not resource constrained."
   ]
  },
  {
   "cell_type": "markdown",
   "metadata": {},
   "source": [
    "# Dynamic Programs\n",
    "\n",
    "Dynamic programming is a technique used in optimization. The idea is to reduce a problem into its simpler subproblems. In each step of a dynamic programming process you should consider the menu of available options and choosing step by step the best decision given your current state. This only works with finite and discrete solution spaces. We will generally do these by recursively calling smaller subproblems from the bigger subproblems. We gain speed by using a lookup table or cache to replace repetitive computation. This method's strength is that it reduces difficult problems that could involve lots of dynamic or combinatorial variance a simple structure.\n",
    "\n",
    "## Anatomy of a Dynamic Program\n",
    "In order to make programming dynamic programs easier we should have the following\n",
    "1. Base Case: a case for which the problem is trivial. In fibonacci this was the first two terms.\n",
    "2. State: We want to organize our problem in such a way that we can have unique states. In the case of the egg drop we identified this as the number of floors we have remaining and the number of eggs we have left. States are independent of path, because once you get to a state the optimal behavior for the future does not depend on how you got there. Someone who won a lottery and now has \\$1 million in their bank account should the same to a billionaire who lost their company and now has only \\$1 million remaining.\n",
    "3. Overall Value function: This is the recursive call. The value of a current policy decision is always going to be determined by the immediate value gained from a policy decision plus all future value that can be obtained by acting optimally. This is represented by the Bellman Equation.\n",
    "$$BellmanEquation$$\n",
    "4. Immediate Value function: This is the value that is immediately obtained from a single decision given a single state\n",
    "5. Policy Decision: Policy decisions are the options available to you at a given state. We maximize our objective by choosing the optimal policy decisions.\n",
    "6. Lookup/cache: to prevent repeated calculations you should have some way to store older results and extract them"
   ]
  },
  {
   "cell_type": "markdown",
   "metadata": {},
   "source": [
    "# Example: Binary Knapsack\n",
    "Let's recall the knapsack problem. In this problem we have n=5 items each with its own weight and value as listed below.\n",
    "\n",
    "$w = \\{1,2,3,4,5\\}$\n",
    "\n",
    "$v = \\{6,8,10,13,17\\}$\n",
    "\n",
    "|item|weight|value|\n",
    "|:---|:---|:---|\n",
    "|1|1|6|\n",
    "|2|2|8|\n",
    "|3|3|10|\n",
    "|4|4|13|\n",
    "|5|5|17|\n",
    "\n",
    "For the overall problem we also need to consider the overall constraints. We are limited by the number of undecided items and \n",
    "\n",
    "we then need to form a table where each cell is a tuple. In general for dynamic programs we are concerned about two variables: a value and a policy decision.\n"
   ]
  },
  {
   "cell_type": "code",
   "execution_count": null,
   "metadata": {},
   "outputs": [],
   "source": []
  }
 ],
 "metadata": {
  "language_info": {
   "name": "python"
  },
  "orig_nbformat": 4
 },
 "nbformat": 4,
 "nbformat_minor": 2
}