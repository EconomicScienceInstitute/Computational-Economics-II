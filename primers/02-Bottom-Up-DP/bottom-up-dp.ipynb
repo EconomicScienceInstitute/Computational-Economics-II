{
 "cells": [
  {
   "cell_type": "markdown",
   "metadata": {},
   "source": [
    "When we were discussing recursion we had two ways of doing things. We either used dictionaries for a top-down/memoization approach or a bottom-up/tabulation approach using array indices. Both are valid and both can be quite fast if done correctly. Memoization tends to be easier to read and write while tabulation tends to require less memory. Both should have approximately the same Big O runtime if they are not resource constrained."
   ]
  },
  {
   "cell_type": "markdown",
   "metadata": {},
   "source": [
    "# Dynamic Programs\n",
    "\n",
    "Dynamic programming is a technique used in optimization. The idea is to reduce a problem into its simpler subproblems. In each step of a dynamic programming process you should consider the menu of available options and choosing step by step the best decision given your current state. This only works with finite and discrete solution spaces. We will generally do these by recursively calling smaller subproblems from the bigger subproblems. We gain speed by using a lookup table or cache to replace repetitive computation. This method's strength is that it reduces difficult problems that could involve lots of dynamic or combinatorial variance a simple structure.\n",
    "\n",
    "## Anatomy of a Dynamic Program\n",
    "In order to make programming dynamic programs easier we should have the following\n",
    "1. Base Case: a case for which the problem is trivial. In fibonacci this was the first two terms.\n",
    "2. State: We want to organize our problem in such a way that we can have unique states. In the case of the egg drop we identified this as the number of floors we have remaining and the number of eggs we have left. States are independent of path, because once you get to a state the optimal behavior for the future does not depend on how you got there. Someone who won a lottery and now has \\$1 million in their bank account should the same to a billionaire who lost their company and now has only \\$1 million remaining.\n",
    "3. Overall Value function: This is the recursive call. The value of a current policy decision is always going to be determined by the immediate value gained from a policy decision plus all future value that can be obtained by acting optimally. This is represented by the Bellman Equation.\n",
    "$$\\underbrace{V^*(s_t)}_{\\text{optimal value}} = \\underset{a}{max}\\left \\{ \\underbrace{R(a,s_t)}_{\\text{Immediate Value Function}} +\n",
    "   \\underbrace{\\sum_{i>t}V^*(s_{i})}_{\\text{Optimal Value of future states}} \\right\\}$$\n",
    "4. Immediate Value function: This is the value that is immediately obtained from a single decision given a single state\n",
    "5. Policy Decision: Policy decisions are the options available to you at a given state. We maximize our objective by choosing the optimal policy decisions.\n",
    "6. Lookup/cache: to prevent repeated calculations you should have some way to store older results and extract them"
   ]
  },
  {
   "cell_type": "markdown",
   "metadata": {},
   "source": [
    "# Example: Binary Knapsack\n",
    "Let's recall the knapsack problem. In this problem we have n=5 items each with its own weight and value as listed below.\n",
    "\n",
    "$w = \\{1,2,3,4,5\\}$\n",
    "\n",
    "$v = \\{6,8,10,13,17\\}$\n",
    "\n",
    "|item|weight|value|\n",
    "|:---|:---|:---|\n",
    "|1|1|6|\n",
    "|2|2|8|\n",
    "|3|3|10|\n",
    "|4|4|13|\n",
    "|5|5|17|\n",
    "\n",
    "For the overall problem we also need to consider the overall constraints. We are limited by the number of undecided items and \n",
    "\n",
    "we then need to form a table where each cell is a tuple. In general for dynamic programs we are concerned about two variables: a value and a policy decision.\n",
    "\n",
    "As in class we create a table where each cell contains a tuple of the total value and policy decision. Remember that we can use the bellman equation. The columns represent the remaining weight and the rows represent remaining items. Our decision will be to either include or don't include the current item.\n",
    "\n",
    "The base case is for this problem is the case when either we have no items left or no weight left. There will be no value because there is no way to add an item. Let's walk through the first row.\n",
    "\n",
    "When there is one item remaining we are making the decision on item 5 with weight 5 and value 17. For any weight less than 5, we are unable to add an item and thus the value will be 0 and the policy choice is not to include it.\n",
    "\n",
    "|     | 0     | 1     | 2    | 3      | 4      | 5      | 6      | 7      | 8      | 9      |\n",
    "|-----|-------|-------|------|--------|--------|--------|--------|--------|--------|--------|\n",
    "| 0   | (0,N) | (0,N) | (0,N) | (0,N)  | (0,N)  | (0,N)  | (0,N)  | (0,N)  | (0,N)  | (0,N)  |\n",
    "| 1   | (0,N) | (0,N) | (0,N) | (0,N)  | (0,N)  | (17,Y) | (17,Y) | (17,Y) | (17,Y) | (17,Y) |\n",
    "| 2   | (0,N) | (0,N) | (0,N) | (0,N)  | (13,Y) | (17,N) | (17,N) | (17,N) | (17,N) | (30,Y) |\n",
    "| 3   | (0,N) | (0,N) | (0,N) | (10,Y) |        |        |        |        |        |        |\n",
    "| 4   | (0,N) | (0,N) | (8,Y) |        |        |        |        |        |        |        |\n",
    "| 5   | (0,N) | (6,Y)) |      |        |        |        |        |        |        |        |\n",
    "\n",
    "With 2 items remaining we have a more interesting choice.\n",
    "\n",
    "We have a choice between including or not including the second to last item of weight 4 with a remaining weight of 5. So our state is $[n=2,w=5]$. If we choose to include the item, our immediate value will be 13 our state will change to $[n=2,w=1]$ So our total value will be $13 + V^*([n=1,w=1]) = 13$. Otherwise if we don't include it, we can get a value of $0 + V^*([n=1,w=5]) = 17$ We take the maximum of the two.\n",
    "\n",
    "# Pseudocode Example\n",
    "Below is an example of how one can implement bottom up dp in python. we already did something similar with the egg drop, but here is a more general skeleton. This code will not run, but can be tweaked to work.\n"
   ]
  },
  {
   "cell_type": "code",
   "execution_count": 1,
   "metadata": {},
   "outputs": [],
   "source": [
    "def immediate_value_function(current_state, policy_decision):\n",
    "    \"\"\"\n",
    "    \"\"\"\n",
    "    return # value created by the policy decision at the current state\n",
    "\n",
    "def transition_state(policy_decision, current_state):\n",
    "    \"\"\"\n",
    "    \"\"\"\n",
    "    if policy_decision == case1:\n",
    "        # transition state based on case 1\n",
    "        return new_state\n",
    "    elif policy_decision == case2:\n",
    "        return new_state\n",
    "    else:\n",
    "        return new_state\n",
    "\n",
    "def bellman_equation(n_columns: int, n_rows: int):\n",
    "    \"\"\"\n",
    "    \"\"\"\n",
    "    lookup_table = [[(None, None) for _ in n_columns] for _ in n_rows]\n",
    "    # fill in all of the base cases (usually for row 0 and column 0\n",
    "    for i in range(n_columns):\n",
    "        for j in range(n_rows):\n",
    "            max_value = -1\n",
    "            optimal_decision_choice = None\n",
    "            for decision in possible_policy_decisions: # iterate over all possible decisions at your current state\n",
    "                current_state = [i,j]\n",
    "                new_i,new_j = transition_state(decision, current_state)\n",
    "                value = immediate_value_function(current_state, decision) + lookup_table[new_i][new_j]\n",
    "                if value > max_value:\n",
    "                    max_value = decision_value\n",
    "                    optimal_decision_choice = decision\n",
    "   return lookup_table"
   ]
  },
  {
   "cell_type": "markdown",
   "source": [
    "If everything was done correctly then the end result will be a lookup table that can find you the solution for any state that is included in the range. Usually your solution will be in one of the corners of the problem."
   ],
   "metadata": {
    "collapsed": false
   }
  }
 ],
 "metadata": {
  "language_info": {
   "name": "python"
  },
  "orig_nbformat": 4
 },
 "nbformat": 4,
 "nbformat_minor": 2
}