{
 "cells": [
  {
   "cell_type": "markdown",
   "metadata": {},
   "source": [
    "When we were discussing recursion we had two ways of doing things. We either used dictionaries for a top-down/memoization approach or a bottom-up/tabulation approach using array indices. Both are valid and both can be quite fast if done correctly. Memoization tends to be easier to read and write while tabulation tends to require less memory. Both should have approximately the same Big O runtime if they are not resource constrained."
   ]
  },
  {
   "cell_type": "markdown",
   "metadata": {},
   "source": [
    "# Dynamic Programs\n",
    "\n",
    "Dynamic programming is a technique used in optimization. The idea is to reduce a problem into its simpler subproblems. In each step of a dynamic programming process you should consider the menu of available options and choosing step by step the best decision given your current state. This only works with finite and discrete solution spaces."
   ]
  },
  {
   "cell_type": "markdown",
   "metadata": {},
   "source": [
    "# Example: Binary Knapsack\n",
    "Let's recall the knapsack problem. In this problem we have n=5 items each with its own weight and value as listed below.\n",
    "\n",
    "$w = \\{1,2,3,4,5\\}$\n",
    "\n",
    "$v = \\{6,8,10,13,17\\}$\n",
    "\n",
    "|item|weight|value|\n",
    "|:---|:---|:---|\n",
    "|1|1|6|\n",
    "|2|2|8|\n",
    "|3|3|10|\n",
    "|4|4|13|\n",
    "|5|5|17|\n",
    "\n",
    "For the overall problem we also need to consider the overall constraints. We are limited by the number of undecided items and \n",
    "\n",
    "we then need to form a table where each cell is a tuple. In general for dynamic programs we are concerned about two variables: a value and a policy decision.\n"
   ]
  },
  {
   "cell_type": "code",
   "execution_count": null,
   "metadata": {},
   "outputs": [],
   "source": []
  }
 ],
 "metadata": {
  "language_info": {
   "name": "python"
  },
  "orig_nbformat": 4
 },
 "nbformat": 4,
 "nbformat_minor": 2
}