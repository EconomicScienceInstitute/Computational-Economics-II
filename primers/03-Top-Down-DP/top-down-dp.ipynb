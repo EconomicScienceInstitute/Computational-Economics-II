{
 "cells": [
  {
   "cell_type": "markdown",
   "metadata": {},
   "source": [
    "When we were discussing recursion we had two ways of doing things. We either used dictionaries for a top-down/memoization approach or a bottom-up/tabulation approach using array indices. Both are valid and both can be quite fast if done correctly. Memoization tends to be easier to read and write while tabulation tends to require less memory. Both should have approximately the same Big O runtime if they are not resource constrained."
   ]
  },
  {
   "cell_type": "markdown",
   "metadata": {},
   "source": [
    "# Dynamic Programs\n",
    "Let's recall our bellman equation\n",
    "\n",
    "## Anatomy of a Dynamic Program\n",
    "In order to make programming dynamic programs easier we should have the following\n",
    "1. Base Case: a case for which the problem is trivial. In fibonacci this was the first two terms.\n",
    "2. State: We want to organize our problem in such a way that we can have unique states. In the case of the egg drop we identified this as the number of floors we have remaining and the number of eggs we have left. States are independent of path, because once you get to a state the optimal behavior for the future does not depend on how you got there. Someone who won a lottery and now has \$1 million in their bank account should the same to a billionaire who lost their company and now has only \$1 million remaining.\n",
    "3. Overall Value function: This is the recursive call. The value of a current policy decision is always going to be determined by the immediate value gained from a policy decision plus all future value that can be obtained by acting optimally. This is represented by the Bellman Equation.\n",
    "$$\\underbrace{V^*(s_t)}_{\\text{optimal value}} = \\underset{a}{max}\\left \\{ \\underbrace{R(a,s_t)}_{\\text{Immediate Value Function}} +\n",
    "   \\underbrace{\\sum_{i>t}V^*(s_{i})}_{\\text{Optimal Value of future states}} \\right\\}$$\n",
    "4. Immediate Value function: This is the value that is immediately obtained from a single decision given a single state\n",
    "5. Policy Decision: Policy decisions are the options available to you at a given state. We maximize our objective by choosing the optimal policy decisions.\n",
    "6. Lookup/cache: to prevent repeated calculations you should have some way to store older results and extract them"
   ]
  },
  {
   "cell_type": "markdown",
   "metadata": {
    "collapsed": false
   },
   "source": [
    "# Top Down Memoization\n",
    "So we have our equation as listed above. We can use memoization and recursion with a dictionary to create simple code that performs the task beautifully"
   ]
  },
  {
   "cell_type": "code",
   "execution_count": 15,
   "metadata": {
    "collapsed": false,
    "pycharm": {
     "name": "#%%\n"
    }
   },
   "outputs": [],
   "source": [
    "cache = {}\n",
    "def OptimalValue(state):\n",
    "    if state in cache:\n",
    "        return cache[state]\n",
    "    else:\n",
    "        optimal_decision = None\n",
    "        max_value = -1\n",
    "        for decision in possible_decisions:\n",
    "            new_state = transition(state, decision)\n",
    "            value = immediate_value(state,decision) + OptimalValue(new_state)\n",
    "            if value > max_value:\n",
    "                max_value = value\n",
    "                optimal_decision = decision\n",
    "    cache[state] = (value, decision)\n",
    "    return cache[state]"
   ]
  },
  {
   "cell_type": "markdown",
   "metadata": {
    "collapsed": false
   },
   "source": [
    "If everything was done correctly then the end result will be a lookup table that can find you the solution for any state that is included in the range. Usually your solution will be in one of the corners of the problem."
   ]
  },
  {
   "cell_type": "code",
   "execution_count": 2,
   "metadata": {
    "collapsed": false,
    "pycharm": {
     "name": "#%%\n"
    }
   },
   "outputs": [],
   "source": [
    "from collections import namedtuple\n",
    "Item = namedtuple(\"Item\", \"weight value\")"
   ]
  },
  {
   "cell_type": "code",
   "execution_count": 3,
   "metadata": {
    "collapsed": false,
    "pycharm": {
     "name": "#%%\n"
    }
   },
   "outputs": [],
   "source": [
    "weights = [1,2,3,4,5]\n",
    "values = [6,8,10,13,17]\n",
    "items = [Item(w,v) for w,v in zip(weights,values)] # list of all items"
   ]
  },
  {
   "cell_type": "code",
   "execution_count": 4,
   "metadata": {
    "collapsed": false,
    "pycharm": {
     "name": "#%%\n"
    }
   },
   "outputs": [],
   "source": [
    "cache = {}\n",
    "State = namedtuple(\"state\",\"n_items_remaining rem_weight\")"
   ]
  },
  {
   "cell_type": "code",
   "execution_count": 5,
   "metadata": {
    "collapsed": false,
    "pycharm": {
     "name": "#%%\n"
    }
   },
   "outputs": [],
   "source": [
    "MAX_WEIGHT = 9\n",
    "N_ITEMS = len(items)"
   ]
  },
  {
   "cell_type": "code",
   "execution_count": 8,
   "metadata": {
    "collapsed": false,
    "pycharm": {
     "name": "#%%\n"
    }
   },
   "outputs": [],
   "source": [
    "for i in range(MAX_WEIGHT + 1):\n",
    "    temp_state = State(0,i) # no items remaining for any weight\n",
    "    decision = \"N\"\n",
    "    immediate_value = 0\n",
    "    cache[temp_state] = (immediate_value,decision)\n",
    "\n",
    "for i in range(N_ITEMS):\n",
    "    temp_state = State(i,0) # no weight remaining for any items\n",
    "    decision = \"N\"\n",
    "    immediate_value = 0\n",
    "    cache[temp_state] = (immediate_value,decision)"
   ]
  },
  {
   "cell_type": "code",
   "execution_count": 10,
   "metadata": {},
   "outputs": [
    {
     "data": {
      "text/plain": [
       "[Item(weight=1, value=6),\n",
       " Item(weight=2, value=8),\n",
       " Item(weight=3, value=10),\n",
       " Item(weight=4, value=13),\n",
       " Item(weight=5, value=17)]"
      ]
     },
     "execution_count": 10,
     "metadata": {},
     "output_type": "execute_result"
    }
   ],
   "source": [
    "items"
   ]
  },
  {
   "cell_type": "code",
   "execution_count": 11,
   "metadata": {},
   "outputs": [],
   "source": [
    "def solve_knapsack(state):\n",
    "    if state in cache:\n",
    "        return cache[state]\n",
    "    value_included = items[- state.n_items_remaining].value\n",
    "    weight_included = items[- state.n_items_remaining].weight\n",
    "    if state.rem_weight < weight_included:\n",
    "        possible_decisions = [\"N\"]\n",
    "    else:\n",
    "        possible_decisions = [\"N\",\"Y\"]\n",
    "    max_value = - 1\n",
    "    for decision in possible_decisions:\n",
    "        if decision == \"Y\":\n",
    "            # transition\n",
    "            new_state = State(n_items_remaining = state.n_items_remaining-1, \n",
    "                                rem_weight = state.rem_weight - weight_included)\n",
    "            total_value = value_included + solve_knapsack(new_state)[0]\n",
    "        else:\n",
    "            new_state = State(n_items_remaining = state.n_items_remaining-1, \n",
    "                                rem_weight = state.rem_weight)\n",
    "            total_value = solve_knapsack(new_state)[0]\n",
    "        if total_value > max_value:\n",
    "            max_value = total_value\n",
    "            cache[state] = (total_value, decision)\n",
    "    return cache[state]"
   ]
  },
  {
   "cell_type": "code",
   "execution_count": 12,
   "metadata": {},
   "outputs": [
    {
     "data": {
      "text/plain": [
       "(10, 'Y')"
      ]
     },
     "execution_count": 12,
     "metadata": {},
     "output_type": "execute_result"
    }
   ],
   "source": [
    "start_state = State(3,5)\n",
    "solve_knapsack(start_state)"
   ]
  },
  {
   "cell_type": "code",
   "execution_count": 13,
   "metadata": {},
   "outputs": [
    {
     "data": {
      "text/plain": [
       "state(n_items_remaining=3, rem_weight=5)"
      ]
     },
     "execution_count": 13,
     "metadata": {},
     "output_type": "execute_result"
    }
   ],
   "source": [
    "start_state"
   ]
  }
 ],
 "metadata": {
  "interpreter": {
   "hash": "ac2eaa0ea0ebeafcc7822e65e46aa9d4f966f30b695406963e145ea4a91cd4fc"
  },
  "kernelspec": {
   "display_name": "Python 3.9.6 64-bit",
   "language": "python",
   "name": "python3"
  },
  "language_info": {
   "codemirror_mode": {
    "name": "ipython",
    "version": 3
   },
   "file_extension": ".py",
   "mimetype": "text/x-python",
   "name": "python",
   "nbconvert_exporter": "python",
   "pygments_lexer": "ipython3",
   "version": "3.9.9"
  },
  "orig_nbformat": 4
 },
 "nbformat": 4,
 "nbformat_minor": 2
}
