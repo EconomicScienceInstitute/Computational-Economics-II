{
 "cells": [
  {
   "cell_type": "code",
   "execution_count": 73,
   "metadata": {},
   "outputs": [],
   "source": [
    "import random\n",
    "from collections import namedtuple"
   ]
  },
  {
   "cell_type": "markdown",
   "metadata": {},
   "source": [
    "# Set up Problem Parameters"
   ]
  },
  {
   "cell_type": "code",
   "execution_count": 74,
   "metadata": {},
   "outputs": [],
   "source": [
    "N_QUESTIONS = 5\n",
    "transition_probs = [1,0.8,0.6,0.5,0.3]\n",
    "prize = [0,10,100,1000,2000,5000]"
   ]
  },
  {
   "cell_type": "markdown",
   "metadata": {},
   "source": [
    "# Set Up Environment"
   ]
  },
  {
   "cell_type": "code",
   "execution_count": 75,
   "metadata": {},
   "outputs": [],
   "source": [
    "# state represent by question number. 0 for start of game, arbitrary placeholder. -1 for end of game.\n",
    "State = namedtuple('State', ['question_number'])\n",
    "Transition = namedtuple('Transition', ['prob', 'next_state'])\n",
    "Result = namedtuple('Result', ['action', 'value'])"
   ]
  },
  {
   "cell_type": "code",
   "execution_count": 76,
   "metadata": {},
   "outputs": [],
   "source": [
    "# Possible Actions"
   ]
  },
  {
   "cell_type": "code",
   "execution_count": 77,
   "metadata": {},
   "outputs": [],
   "source": [
    "def possible_actions(curr_state: State) -> list[str]:\n",
    "    \"\"\"returns possible actions\n",
    "    \"\"\"\n",
    "    if curr_state.question_number == 0:\n",
    "        return ['Y']\n",
    "    elif curr_state.question_number == -1:\n",
    "        return ['N']\n",
    "    else:\n",
    "        return ['Y','N']"
   ]
  },
  {
   "cell_type": "markdown",
   "metadata": {},
   "source": [
    "# Bellman Equation"
   ]
  },
  {
   "cell_type": "code",
   "execution_count": 78,
   "metadata": {},
   "outputs": [],
   "source": [
    "N_QUESTIONS = 5\n",
    "transition_probs = [1,0.8,0.6,0.5,0.3]\n",
    "prize = [0,10,100,1000,2000,5000]\n",
    "def create_lookup_table(n_questions:int):\n",
    "    return [Result(None,0) for _ in range(n_questions+2)]\n",
    "x = create_lookup_table(N_QUESTIONS)\n"
   ]
  },
  {
   "cell_type": "code",
   "execution_count": 79,
   "metadata": {},
   "outputs": [
    {
     "name": "stdout",
     "output_type": "stream",
     "text": [
      "(0, Result(action=None, value=0))\n",
      "(1, Result(action=None, value=0))\n",
      "(2, Result(action=None, value=0))\n",
      "(3, Result(action=None, value=0))\n",
      "(4, Result(action=None, value=0))\n",
      "(5, Result(action=None, value=0))\n",
      "(6, Result(action=None, value=0))\n"
     ]
    }
   ],
   "source": [
    "# test for lookup table\n",
    "for i, question in enumerate(x):\n",
    "        print(f\"{(i,question)}\")"
   ]
  },
  {
   "cell_type": "code",
   "execution_count": 80,
   "metadata": {},
   "outputs": [],
   "source": [
    "lookup = create_lookup_table(N_QUESTIONS)\n",
    "def bellman_equation(start_state: State):\n",
    "    \"\"\"\n",
    "    \"\"\"\n",
    "    question_number = start_state.question_number\n",
    "    # previously solved\n",
    "    if lookup[question_number].action != None:\n",
    "        return lookup[question_number]\n",
    "    # base case\n",
    "    if start_state.question_number <= -1:\n",
    "        return Result('',0)\n",
    "    # list out possible actions\n",
    "    actions_poss = possible_actions(start_state) \n",
    "    # get the the expected value of each action which is the Immediate value + expected value of future states\n",
    "    actions_vals = [expected_action_value(start_state, action) for action in actions_poss]\n",
    "    # find the max value\n",
    "    best_val, best_action = max(zip(actions_vals, actions_poss))\n",
    "    # storing it in cache\n",
    "    lookup[question_number] = Result(best_action, best_val)\n",
    "    return lookup[question_number]\n",
    "\n",
    "def expected_action_value(curr_state: State,action: str):\n",
    "    # get the the expected value of each action \n",
    "    if action == 'N':\n",
    "        return 0\n",
    "\n",
    "    # which is the Immediate value + expected value of future states\n",
    "    immediate_value = prize[curr_state.question_number]\n",
    "    expected_value = immediate_value\n",
    "    prob_success = transition_probs[curr_state.question_number]\n",
    "    if curr_state.question_number != N_QUESTIONS:\n",
    "        success_state = State(-1)\n",
    "    else:\n",
    "        success_state = State(curr_state.question_number + 1)\n",
    "    failure_state = State(-1)\n",
    "    transition_states = [Transition(prob = prob_success,next_state = success_state),\n",
    "                         Transition(prob = 1-prob_success,next_state = failure_state)\n",
    "                        ]\n",
    "    for transition in transition_states:\n",
    "        expected_value += transition.prob * bellman_equation(transition.next_state).value\n",
    "    return expected_value"
   ]
  },
  {
   "cell_type": "code",
   "execution_count": 82,
   "metadata": {},
   "outputs": [
    {
     "data": {
      "text/plain": [
       "[Result(action='Y', value=0),\n",
       " Result(action=None, value=0),\n",
       " Result(action=None, value=0),\n",
       " Result(action=None, value=0),\n",
       " Result(action=None, value=0),\n",
       " Result(action=None, value=0),\n",
       " Result(action=None, value=0)]"
      ]
     },
     "execution_count": 82,
     "metadata": {},
     "output_type": "execute_result"
    }
   ],
   "source": [
    "N_QUESTIONS = 5\n",
    "transition_probs = [1,0.8,0.6,0.5,0.3]\n",
    "prize = [0,10,100,1000,2000,5000]\n",
    "start_state = State(0)\n",
    "lookup = create_lookup_table(N_QUESTIONS)\n",
    "\n",
    "bellman_equation(start_state)\n",
    "lookup"
   ]
  }
 ],
 "metadata": {
  "interpreter": {
   "hash": "ac2eaa0ea0ebeafcc7822e65e46aa9d4f966f30b695406963e145ea4a91cd4fc"
  },
  "kernelspec": {
   "display_name": "Python 3.9.6 64-bit",
   "language": "python",
   "name": "python3"
  },
  "language_info": {
   "codemirror_mode": {
    "name": "ipython",
    "version": 3
   },
   "file_extension": ".py",
   "mimetype": "text/x-python",
   "name": "python",
   "nbconvert_exporter": "python",
   "pygments_lexer": "ipython3",
   "version": "3.9.10"
  },
  "orig_nbformat": 4
 },
 "nbformat": 4,
 "nbformat_minor": 2
}
