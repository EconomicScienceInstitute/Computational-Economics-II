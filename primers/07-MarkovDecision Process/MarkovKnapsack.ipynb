{
 "cells": [
  {
   "cell_type": "markdown",
   "metadata": {},
   "source": [
    "# Markov Knapsack\n",
    "\n",
    "Let's take a knapsack with uncertain costs. Meaning when you make the decision to include or exclude, we flip a coin and that determines how much you pay."
   ]
  },
  {
   "cell_type": "code",
   "execution_count": 26,
   "metadata": {},
   "outputs": [],
   "source": [
    "import random\n",
    "from collections import namedtuple\n",
    "\n",
    "n = 5\n",
    "values = [40, 30, 30, 30, 50]\n",
    "costs1 = [1, 2, 3, 4, 5]\n",
    "costs2 = [5, 4, 3, 2, 1]\n",
    "budget = 10\n"
   ]
  },
  {
   "cell_type": "markdown",
   "metadata": {},
   "source": [
    "We are going to want to create a couple of variables in our environment. We need the state because as we know, we're going to be using the bellman equation.\n",
    "\n",
    "$V(s) = \\underset{a}{max} \\left[F(s,a) + V(s_a) \\right]$"
   ]
  },
  {
   "cell_type": "code",
   "execution_count": 27,
   "metadata": {},
   "outputs": [],
   "source": [
    "State = namedtuple('State', ['index', 'budget'])\n",
    "Transition = namedtuple('Transition', ['prob', 'next_state'])\n",
    "Result = namedtuple('Result', ['action', 'value'])"
   ]
  },
  {
   "cell_type": "code",
   "execution_count": 28,
   "metadata": {},
   "outputs": [
    {
     "data": {
      "text/plain": [
       "2"
      ]
     },
     "execution_count": 28,
     "metadata": {},
     "output_type": "execute_result"
    }
   ],
   "source": [
    "test_state = State(3,5)\n",
    "costs1[test_state.index]\n",
    "costs2[test_state.index]"
   ]
  },
  {
   "cell_type": "code",
   "execution_count": 29,
   "metadata": {},
   "outputs": [
    {
     "data": {
      "text/plain": [
       "State(index=4, budget=3)"
      ]
     },
     "execution_count": 29,
     "metadata": {},
     "output_type": "execute_result"
    }
   ],
   "source": [
    "# test for transition tuple\n",
    "t = Transition(0.5,State(4,3))\n",
    "t.next_state"
   ]
  },
  {
   "cell_type": "code",
   "execution_count": 30,
   "metadata": {},
   "outputs": [],
   "source": [
    "# What actions do we have available\n",
    "def possible_actions(state):\n",
    "    if state.index >= len(costs1):\n",
    "        return None\n",
    "    max_cost = max(costs1[state.index], costs2[state.index])\n",
    "    if state.budget < max_cost:\n",
    "        return ['N']\n",
    "    else:\n",
    "        return ['N', 'Y']\n",
    "\n",
    "def possible_actions_test():\n",
    "    test_values = [State(4,0), State(4,20), State(4,4), State(4,5), State(5,0)]\n",
    "    expected_results = [['N'], ['N','Y'], ['N'], ['N','Y'],None]\n",
    "    actual_results = [possible_actions(val) for val in test_values]\n",
    "    for i,j,s in zip(expected_results,actual_results,test_values):\n",
    "        if i != j:\n",
    "            print(f\"Error for case {s}. \\nExpected result was {i}. \\nActual result was {j}\")\n",
    "possible_actions_test()"
   ]
  },
  {
   "cell_type": "code",
   "execution_count": 31,
   "metadata": {},
   "outputs": [
    {
     "name": "stdout",
     "output_type": "stream",
     "text": [
      "[40, 30, 30, 30, 50]\n",
      "[1, 2, 3, 4, 5]\n",
      "[5, 4, 3, 2, 1]\n"
     ]
    }
   ],
   "source": [
    "print(values)\n",
    "print(costs1)\n",
    "print(costs2)"
   ]
  },
  {
   "cell_type": "code",
   "execution_count": 32,
   "metadata": {},
   "outputs": [],
   "source": [
    "def immediate_value(state, action):\n",
    "    if action == 'N':\n",
    "        return 0\n",
    "    else:\n",
    "        return values[state.index]"
   ]
  },
  {
   "cell_type": "code",
   "execution_count": 33,
   "metadata": {},
   "outputs": [],
   "source": [
    "def transitions(state, action):\n",
    "    if action == 'N':\n",
    "        # If action is no then we have certainty so prob = 1\n",
    "        return [Transition(1, State(state.index+1, state.budget))]\n",
    "    else:\n",
    "        prob1 = 0.5\n",
    "        state1 = State(state.index+1, state.budget - costs1[state.index])\n",
    "        \n",
    "        prob2 = 0.5\n",
    "        state2 = State(state.index+1, state.budget - costs2[state.index])\n",
    "        return [\n",
    "            Transition(prob1, state1),\n",
    "            Transition(prob2, state2)\n",
    "        ]"
   ]
  },
  {
   "cell_type": "code",
   "execution_count": 34,
   "metadata": {},
   "outputs": [],
   "source": [
    "def expected_action_value(state, action):\n",
    "    action_value = immediate_value(state, action)\n",
    "    action_value += sum(trans.prob * knapsack(trans.next_state).value\n",
    "                        for trans in transitions(state, action)) # add on expected value of future states using recursive search\n",
    "    return action_value"
   ]
  },
  {
   "cell_type": "code",
   "execution_count": 35,
   "metadata": {},
   "outputs": [],
   "source": [
    "lookup = {}\n",
    "def knapsack(state):\n",
    "    if state.index >= n:\n",
    "        return Result('', 0)\n",
    "    if state not in lookup:\n",
    "        # list out possible actions\n",
    "        actions_poss = possible_actions(state) \n",
    "        # get the the expected value of each action which is the Immediate value + expected value of future states\n",
    "        actions_vals = [expected_action_value(state, action) for action in actions_poss]\n",
    "        # find the max value\n",
    "        best_val, best_action = max(zip(actions_vals, actions_poss))\n",
    "        # storing it in cache\n",
    "        lookup[state] = Result(best_action, best_val)\n",
    "    return lookup[state]\n"
   ]
  },
  {
   "cell_type": "code",
   "execution_count": 37,
   "metadata": {},
   "outputs": [
    {
     "name": "stdout",
     "output_type": "stream",
     "text": [
      "Costs1: [1, 2, 3, 4, 5]\n",
      "Costs2: [5, 4, 3, 2, 1]\n",
      "Values: [40, 30, 30, 30, 50]\n",
      "Budget: 10\n",
      "Optimal: Result(action='Y', value=107.5)\n"
     ]
    }
   ],
   "source": [
    "\n",
    "print(f'Costs1: {costs1}')\n",
    "print(f'Costs2: {costs2}')\n",
    "print(f'Values: {values}')\n",
    "print(f'Budget: {budget}')\n",
    "\n",
    "init_state = State(0, budget)\n",
    "opt = knapsack(init_state)\n",
    "print(f'Optimal: {opt}')"
   ]
  },
  {
   "cell_type": "code",
   "execution_count": 38,
   "metadata": {},
   "outputs": [
    {
     "data": {
      "text/plain": [
       "Result(action='N', value=50.0)"
      ]
     },
     "execution_count": 38,
     "metadata": {},
     "output_type": "execute_result"
    }
   ],
   "source": [
    "second_state=State(1,5)\n",
    "lookup[second_state]"
   ]
  },
  {
   "cell_type": "code",
   "execution_count": 41,
   "metadata": {},
   "outputs": [
    {
     "name": "stdout",
     "output_type": "stream",
     "text": [
      "sim 0:\n",
      "\n",
      "State(index=0, budget=10) Result(action='Y', value=107.5)\n",
      "State(index=1, budget=5) Result(action='N', value=50.0)\n",
      "State(index=2, budget=5) Result(action='N', value=50.0)\n",
      "State(index=3, budget=5) Result(action='N', value=50.0)\n",
      "State(index=4, budget=5) Result(action='Y', value=50.0)\n",
      "sim 1:\n",
      "\n",
      "State(index=0, budget=10) Result(action='Y', value=107.5)\n",
      "State(index=1, budget=5) Result(action='N', value=50.0)\n",
      "State(index=2, budget=5) Result(action='N', value=50.0)\n",
      "State(index=3, budget=5) Result(action='N', value=50.0)\n",
      "State(index=4, budget=5) Result(action='Y', value=50.0)\n",
      "sim 2:\n",
      "\n",
      "State(index=0, budget=10) Result(action='Y', value=107.5)\n",
      "State(index=1, budget=9) Result(action='Y', value=85.0)\n",
      "State(index=2, budget=7) Result(action='Y', value=60.0)\n",
      "State(index=3, budget=4) Result(action='Y', value=30.0)\n",
      "State(index=4, budget=0) Result(action='N', value=0)\n",
      "sim 3:\n",
      "\n",
      "State(index=0, budget=10) Result(action='Y', value=107.5)\n",
      "State(index=1, budget=9) Result(action='Y', value=85.0)\n",
      "State(index=2, budget=7) Result(action='Y', value=60.0)\n",
      "State(index=3, budget=4) Result(action='Y', value=30.0)\n",
      "State(index=4, budget=0) Result(action='N', value=0)\n",
      "sim 4:\n",
      "\n",
      "State(index=0, budget=10) Result(action='Y', value=107.5)\n",
      "State(index=1, budget=5) Result(action='N', value=50.0)\n",
      "State(index=2, budget=5) Result(action='N', value=50.0)\n",
      "State(index=3, budget=5) Result(action='N', value=50.0)\n",
      "State(index=4, budget=5) Result(action='Y', value=50.0)\n",
      "sim 5:\n",
      "\n",
      "State(index=0, budget=10) Result(action='Y', value=107.5)\n",
      "State(index=1, budget=9) Result(action='Y', value=85.0)\n",
      "State(index=2, budget=5) Result(action='N', value=50.0)\n",
      "State(index=3, budget=5) Result(action='N', value=50.0)\n",
      "State(index=4, budget=5) Result(action='Y', value=50.0)\n",
      "sim 6:\n",
      "\n",
      "State(index=0, budget=10) Result(action='Y', value=107.5)\n",
      "State(index=1, budget=9) Result(action='Y', value=85.0)\n",
      "State(index=2, budget=7) Result(action='Y', value=60.0)\n",
      "State(index=3, budget=4) Result(action='Y', value=30.0)\n",
      "State(index=4, budget=0) Result(action='N', value=0)\n",
      "sim 7:\n",
      "\n",
      "State(index=0, budget=10) Result(action='Y', value=107.5)\n",
      "State(index=1, budget=9) Result(action='Y', value=85.0)\n",
      "State(index=2, budget=5) Result(action='N', value=50.0)\n",
      "State(index=3, budget=5) Result(action='N', value=50.0)\n",
      "State(index=4, budget=5) Result(action='Y', value=50.0)\n",
      "sim 8:\n",
      "\n",
      "State(index=0, budget=10) Result(action='Y', value=107.5)\n",
      "State(index=1, budget=9) Result(action='Y', value=85.0)\n",
      "State(index=2, budget=5) Result(action='N', value=50.0)\n",
      "State(index=3, budget=5) Result(action='N', value=50.0)\n",
      "State(index=4, budget=5) Result(action='Y', value=50.0)\n",
      "sim 9:\n",
      "\n",
      "State(index=0, budget=10) Result(action='Y', value=107.5)\n",
      "State(index=1, budget=5) Result(action='N', value=50.0)\n",
      "State(index=2, budget=5) Result(action='N', value=50.0)\n",
      "State(index=3, budget=5) Result(action='N', value=50.0)\n",
      "State(index=4, budget=5) Result(action='Y', value=50.0)\n",
      "sim 10:\n",
      "\n",
      "State(index=0, budget=10) Result(action='Y', value=107.5)\n",
      "State(index=1, budget=5) Result(action='N', value=50.0)\n",
      "State(index=2, budget=5) Result(action='N', value=50.0)\n",
      "State(index=3, budget=5) Result(action='N', value=50.0)\n",
      "State(index=4, budget=5) Result(action='Y', value=50.0)\n",
      "sim 11:\n",
      "\n",
      "State(index=0, budget=10) Result(action='Y', value=107.5)\n",
      "State(index=1, budget=9) Result(action='Y', value=85.0)\n",
      "State(index=2, budget=7) Result(action='Y', value=60.0)\n",
      "State(index=3, budget=4) Result(action='Y', value=30.0)\n",
      "State(index=4, budget=0) Result(action='N', value=0)\n",
      "sim 12:\n",
      "\n",
      "State(index=0, budget=10) Result(action='Y', value=107.5)\n",
      "State(index=1, budget=5) Result(action='N', value=50.0)\n",
      "State(index=2, budget=5) Result(action='N', value=50.0)\n",
      "State(index=3, budget=5) Result(action='N', value=50.0)\n",
      "State(index=4, budget=5) Result(action='Y', value=50.0)\n",
      "sim 13:\n",
      "\n",
      "State(index=0, budget=10) Result(action='Y', value=107.5)\n",
      "State(index=1, budget=5) Result(action='N', value=50.0)\n",
      "State(index=2, budget=5) Result(action='N', value=50.0)\n",
      "State(index=3, budget=5) Result(action='N', value=50.0)\n",
      "State(index=4, budget=5) Result(action='Y', value=50.0)\n",
      "sim 14:\n",
      "\n",
      "State(index=0, budget=10) Result(action='Y', value=107.5)\n",
      "State(index=1, budget=9) Result(action='Y', value=85.0)\n",
      "State(index=2, budget=5) Result(action='N', value=50.0)\n",
      "State(index=3, budget=5) Result(action='N', value=50.0)\n",
      "State(index=4, budget=5) Result(action='Y', value=50.0)\n",
      "sim 15:\n",
      "\n",
      "State(index=0, budget=10) Result(action='Y', value=107.5)\n",
      "State(index=1, budget=9) Result(action='Y', value=85.0)\n",
      "State(index=2, budget=7) Result(action='Y', value=60.0)\n",
      "State(index=3, budget=4) Result(action='Y', value=30.0)\n",
      "State(index=4, budget=2) Result(action='N', value=0)\n",
      "sim 16:\n",
      "\n",
      "State(index=0, budget=10) Result(action='Y', value=107.5)\n",
      "State(index=1, budget=9) Result(action='Y', value=85.0)\n",
      "State(index=2, budget=7) Result(action='Y', value=60.0)\n",
      "State(index=3, budget=4) Result(action='Y', value=30.0)\n",
      "State(index=4, budget=2) Result(action='N', value=0)\n",
      "sim 17:\n",
      "\n",
      "State(index=0, budget=10) Result(action='Y', value=107.5)\n",
      "State(index=1, budget=9) Result(action='Y', value=85.0)\n",
      "State(index=2, budget=7) Result(action='Y', value=60.0)\n",
      "State(index=3, budget=4) Result(action='Y', value=30.0)\n",
      "State(index=4, budget=2) Result(action='N', value=0)\n",
      "sim 18:\n",
      "\n",
      "State(index=0, budget=10) Result(action='Y', value=107.5)\n",
      "State(index=1, budget=9) Result(action='Y', value=85.0)\n",
      "State(index=2, budget=7) Result(action='Y', value=60.0)\n",
      "State(index=3, budget=4) Result(action='Y', value=30.0)\n",
      "State(index=4, budget=2) Result(action='N', value=0)\n",
      "sim 19:\n",
      "\n",
      "State(index=0, budget=10) Result(action='Y', value=107.5)\n",
      "State(index=1, budget=5) Result(action='N', value=50.0)\n",
      "State(index=2, budget=5) Result(action='N', value=50.0)\n",
      "State(index=3, budget=5) Result(action='N', value=50.0)\n",
      "State(index=4, budget=5) Result(action='Y', value=50.0)\n"
     ]
    }
   ],
   "source": [
    "# for state,res in lookup.items():\n",
    "#     print(state, res)\n",
    "\n",
    "for i in range(20):\n",
    "    print(f'sim {i}:\\n')\n",
    "    state = init_state\n",
    "    for _ in range(n):\n",
    "        res = knapsack(state)\n",
    "        print(state, res)\n",
    "        state = random.choice(transitions(state, res.action)).next_state"
   ]
  }
 ],
 "metadata": {
  "interpreter": {
   "hash": "ac2eaa0ea0ebeafcc7822e65e46aa9d4f966f30b695406963e145ea4a91cd4fc"
  },
  "kernelspec": {
   "display_name": "Python 3.9.6 64-bit",
   "language": "python",
   "name": "python3"
  },
  "language_info": {
   "codemirror_mode": {
    "name": "ipython",
    "version": 3
   },
   "file_extension": ".py",
   "mimetype": "text/x-python",
   "name": "python",
   "nbconvert_exporter": "python",
   "pygments_lexer": "ipython3",
   "version": "3.9.9"
  },
  "orig_nbformat": 4
 },
 "nbformat": 4,
 "nbformat_minor": 2
}
