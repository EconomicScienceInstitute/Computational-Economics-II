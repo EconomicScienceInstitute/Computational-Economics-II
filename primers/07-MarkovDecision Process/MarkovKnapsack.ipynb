{
 "cells": [
  {
   "cell_type": "markdown",
   "metadata": {},
   "source": [
    "# Markov Knapsack\n",
    "\n",
    "Let's take a knapsack with uncertain costs. Meaning when you make the decision to include or exclude, we flip a coin and that determines how much you pay."
   ]
  },
  {
   "cell_type": "code",
   "execution_count": 26,
   "metadata": {},
   "outputs": [],
   "source": [
    "import random\n",
    "from collections import namedtuple\n",
    "\n",
    "n = 5\n",
    "values = [40, 30, 30, 30, 50]\n",
    "costs1 = [1, 2, 3, 4, 5]\n",
    "costs2 = [5, 4, 3, 2, 1]\n",
    "budget = 10\n"
   ]
  },
  {
   "cell_type": "markdown",
   "metadata": {},
   "source": [
    "We are going to want to create a couple of variables in our environment. We need the state because as we know, we're going to be using the bellman equation.\n",
    "\n",
    "$V(s) = \\underset{a}{max} \\left[F(s,a) + V(s_a) \\right]$"
   ]
  },
  {
   "cell_type": "code",
   "execution_count": 27,
   "metadata": {},
   "outputs": [],
   "source": [
    "State = namedtuple('State', ['index', 'budget'])\n",
    "Transition = namedtuple('Transition', ['prob', 'next_state'])\n",
    "Result = namedtuple('Result', ['action', 'value'])"
   ]
  },
  {
   "cell_type": "code",
   "execution_count": 28,
   "metadata": {},
   "outputs": [
    {
     "data": {
      "text/plain": [
       "2"
      ]
     },
     "execution_count": 28,
     "metadata": {},
     "output_type": "execute_result"
    }
   ],
   "source": [
    "test_state = State(3,5)\n",
    "costs1[test_state.index]\n",
    "costs2[test_state.index]"
   ]
  },
  {
   "cell_type": "code",
   "execution_count": 29,
   "metadata": {},
   "outputs": [
    {
     "data": {
      "text/plain": [
       "State(index=4, budget=3)"
      ]
     },
     "execution_count": 29,
     "metadata": {},
     "output_type": "execute_result"
    }
   ],
   "source": [
    "# test for transition tuple\n",
    "t = Transition(0.5,State(4,3))\n",
    "t.next_state"
   ]
  },
  {
   "cell_type": "code",
   "execution_count": 30,
   "metadata": {},
   "outputs": [],
   "source": [
    "# What actions do we have available\n",
    "def possible_actions(state):\n",
    "    if state.index >= len(costs1):\n",
    "        return None\n",
    "    max_cost = max(costs1[state.index], costs2[state.index])\n",
    "    if state.budget < max_cost:\n",
    "        return ['N']\n",
    "    else:\n",
    "        return ['N', 'Y']\n",
    "\n",
    "def possible_actions_test():\n",
    "    test_values = [State(4,0), State(4,20), State(4,4), State(4,5), State(5,0)]\n",
    "    expected_results = [['N'], ['N','Y'], ['N'], ['N','Y'],None]\n",
    "    actual_results = [possible_actions(val) for val in test_values]\n",
    "    for i,j,s in zip(expected_results,actual_results,test_values):\n",
    "        if i != j:\n",
    "            print(f\"Error for case {s}. \\nExpected result was {i}. \\nActual result was {j}\")\n",
    "possible_actions_test()"
   ]
  },
  {
   "cell_type": "code",
   "execution_count": 31,
   "metadata": {},
   "outputs": [
    {
     "name": "stdout",
     "output_type": "stream",
     "text": [
      "[40, 30, 30, 30, 50]\n",
      "[1, 2, 3, 4, 5]\n",
      "[5, 4, 3, 2, 1]\n"
     ]
    }
   ],
   "source": [
    "print(values)\n",
    "print(costs1)\n",
    "print(costs2)"
   ]
  },
  {
   "cell_type": "code",
   "execution_count": 32,
   "metadata": {},
   "outputs": [],
   "source": [
    "def immediate_value(state, action):\n",
    "    if action == 'N':\n",
    "        return 0\n",
    "    else:\n",
    "        return values[state.index]"
   ]
  },
  {
   "cell_type": "code",
   "execution_count": 33,
   "metadata": {},
   "outputs": [],
   "source": [
    "def transitions(state, action):\n",
    "    if action == 'N':\n",
    "        # If action is no then we have certainty so prob = 1\n",
    "        return [Transition(1, State(state.index+1, state.budget))]\n",
    "    else:\n",
    "        prob1 = 0.5\n",
    "        state1 = State(state.index+1, state.budget - costs1[state.index])\n",
    "        \n",
    "        prob2 = 0.5\n",
    "        state2 = State(state.index+1, state.budget - costs2[state.index])\n",
    "        return [\n",
    "            Transition(prob1, state1),\n",
    "            Transition(prob2, state2)\n",
    "        ]"
   ]
  },
  {
   "cell_type": "code",
   "execution_count": 34,
   "metadata": {},
   "outputs": [],
   "source": [
    "def expected_action_value(state, action):\n",
    "    action_value = immediate_value(state, action)\n",
    "    action_value += sum(trans.prob * knapsack(trans.next_state).value\n",
    "                        for trans in transitions(state, action)) # add on expected value of future states using recursive search\n",
    "    return action_value"
   ]
  },
  {
   "cell_type": "code",
   "execution_count": 35,
   "metadata": {},
   "outputs": [],
   "source": [
    "lookup = {}\n",
    "def knapsack(state):\n",
    "    if state.index >= n:\n",
    "        return Result('', 0)\n",
    "    if state not in lookup:\n",
    "        # list out possible actions\n",
    "        actions_poss = possible_actions(state) \n",
    "        # get the the expected value of each action which is the Immediate value + expected value of future states\n",
    "        actions_vals = [expected_action_value(state, action) for action in actions_poss]\n",
    "        # find the max value\n",
    "        best_val, best_action = max(zip(actions_vals, actions_poss))\n",
    "        # storing it in cache\n",
    "        lookup[state] = Result(best_action, best_val)\n",
    "    return lookup[state]\n"
   ]
  },
  {
   "cell_type": "code",
   "execution_count": 37,
   "metadata": {},
   "outputs": [
    {
     "name": "stdout",
     "output_type": "stream",
     "text": [
      "Costs1: [1, 2, 3, 4, 5]\n",
      "Costs2: [5, 4, 3, 2, 1]\n",
      "Values: [40, 30, 30, 30, 50]\n",
      "Budget: 10\n",
      "Optimal: Result(action='Y', value=107.5)\n"
     ]
    }
   ],
   "source": [
    "\n",
    "print(f'Costs1: {costs1}')\n",
    "print(f'Costs2: {costs2}')\n",
    "print(f'Values: {values}')\n",
    "print(f'Budget: {budget}')\n",
    "\n",
    "init_state = State(0, budget)\n",
    "opt = knapsack(init_state)\n",
    "print(f'Optimal: {opt}')"
   ]
  },
  {
   "cell_type": "code",
   "execution_count": 38,
   "metadata": {},
   "outputs": [
    {
     "data": {
      "text/plain": [
       "Result(action='N', value=50.0)"
      ]
     },
     "execution_count": 38,
     "metadata": {},
     "output_type": "execute_result"
    }
   ],
   "source": [
    "second_state=State(1,5)\n",
    "lookup[second_state]"
   ]
  },
  {
   "cell_type": "code",
   "execution_count": 41,
   "metadata": {},
   "outputs": [
    {
     "name": "stdout",
     "output_type": "stream",
     "text": [
      "sim 0:\n",
      "\n",
      "State(index=0, budget=10) Result(action='Y', value=107.5)\n",
      "State(index=1, budget=5) Result(action='N', value=50.0)\n",
      "State(index=2, budget=5) Result(action='N', value=50.0)\n",
      "State(index=3, budget=5) Result(action='N', value=50.0)\n",
      "State(index=4, budget=5) Result(action='Y', value=50.0)\n",
      "sim 1:\n",
      "\n",
      "State(index=0, budget=10) Result(action='Y', value=107.5)\n",
      "State(index=1, budget=5) Result(action='N', value=50.0)\n",
      "State(index=2, budget=5) Result(action='N', value=50.0)\n",
      "State(index=3, budget=5) Result(action='N', value=50.0)\n",
      "State(index=4, budget=5) Result(action='Y', value=50.0)\n",
      "sim 2:\n",
      "\n",
      "State(index=0, budget=10) Result(action='Y', value=107.5)\n",
      "State(index=1, budget=9) Result(action='Y', value=85.0)\n",
      "State(index=2, budget=7) Result(action='Y', value=60.0)\n",
      "State(index=3, budget=4) Result(action='Y', value=30.0)\n",
      "State(index=4, budget=0) Result(action='N', value=0)\n",
      "sim 3:\n",
      "\n",
      "State(index=0, budget=10) Result(action='Y', value=107.5)\n",
      "State(index=1, budget=9) Result(action='Y', value=85.0)\n",
      "State(index=2, budget=7) Result(action='Y', value=60.0)\n",
      "State(index=3, budget=4) Result(action='Y', value=30.0)\n",
      "State(index=4, budget=0) Result(action='N', value=0)\n",
      "sim 4:\n",
      "\n",
      "State(index=0, budget=10) Result(action='Y', value=107.5)\n",
      "State(index=1, budget=5) Result(action='N', value=50.0)\n",
      "State(index=2, budget=5) Result(action='N', value=50.0)\n",
      "State(index=3, budget=5) Result(action='N', value=50.0)\n",
      "State(index=4, budget=5) Result(action='Y', value=50.0)\n",
      "sim 5:\n",
      "\n",
      "State(index=0, budget=10) Result(action='Y', value=107.5)\n",
      "State(index=1, budget=9) Result(action='Y', value=85.0)\n",
      "State(index=2, budget=5) Result(action='N', value=50.0)\n",
      "State(index=3, budget=5) Result(action='N', value=50.0)\n",
      "State(index=4, budget=5) Result(action='Y', value=50.0)\n",
      "sim 6:\n",
      "\n",
      "State(index=0, budget=10) Result(action='Y', value=107.5)\n",
      "State(index=1, budget=9) Result(action='Y', value=85.0)\n",
      "State(index=2, budget=7) Result(action='Y', value=60.0)\n",
      "State(index=3, budget=4) Result(action='Y', value=30.0)\n",
      "State(index=4, budget=0) Result(action='N', value=0)\n",
      "sim 7:\n",
      "\n",
      "State(index=0, budget=10) Result(action='Y', value=107.5)\n",
      "State(index=1, budget=9) Result(action='Y', value=85.0)\n",
      "State(index=2, budget=5) Result(action='N', value=50.0)\n",
      "State(index=3, budget=5) Result(action='N', value=50.0)\n",
      "State(index=4, budget=5) Result(action='Y', value=50.0)\n",
      "sim 8:\n",
      "\n",
      "State(index=0, budget=10) Result(action='Y', value=107.5)\n",
      "State(index=1, budget=9) Result(action='Y', value=85.0)\n",
      "State(index=2, budget=5) Result(action='N', value=50.0)\n",
      "State(index=3, budget=5) Result(action='N', value=50.0)\n",
      "State(index=4, budget=5) Result(action='Y', value=50.0)\n",
      "sim 9:\n",
      "\n",
      "State(index=0, budget=10) Result(action='Y', value=107.5)\n",
      "State(index=1, budget=5) Result(action='N', value=50.0)\n",
      "State(index=2, budget=5) Result(action='N', value=50.0)\n",
      "State(index=3, budget=5) Result(action='N', value=50.0)\n",
      "State(index=4, budget=5) Result(action='Y', value=50.0)\n",
      "sim 10:\n",
      "\n",
      "State(index=0, budget=10) Result(action='Y', value=107.5)\n",
      "State(index=1, budget=5) Result(action='N', value=50.0)\n",
      "State(index=2, budget=5) Result(action='N', value=50.0)\n",
      "State(index=3, budget=5) Result(action='N', value=50.0)\n",
      "State(index=4, budget=5) Result(action='Y', value=50.0)\n",
      "sim 11:\n",
      "\n",
      "State(index=0, budget=10) Result(action='Y', value=107.5)\n",
      "State(index=1, budget=9) Result(action='Y', value=85.0)\n",
      "State(index=2, budget=7) Result(action='Y', value=60.0)\n",
      "State(index=3, budget=4) Result(action='Y', value=30.0)\n",
      "State(index=4, budget=0) Result(action='N', value=0)\n",
      "sim 12:\n",
      "\n",
      "State(index=0, budget=10) Result(action='Y', value=107.5)\n",
      "State(index=1, budget=5) Result(action='N', value=50.0)\n",
      "State(index=2, budget=5) Result(action='N', value=50.0)\n",
      "State(index=3, budget=5) Result(action='N', value=50.0)\n",
      "State(index=4, budget=5) Result(action='Y', value=50.0)\n",
      "sim 13:\n",
      "\n",
      "State(index=0, budget=10) Result(action='Y', value=107.5)\n",
      "State(index=1, budget=5) Result(action='N', value=50.0)\n",
      "State(index=2, budget=5) Result(action='N', value=50.0)\n",
      "State(index=3, budget=5) Result(action='N', value=50.0)\n",
      "State(index=4, budget=5) Result(action='Y', value=50.0)\n",
      "sim 14:\n",
      "\n",
      "State(index=0, budget=10) Result(action='Y', value=107.5)\n",
      "State(index=1, budget=9) Result(action='Y', value=85.0)\n",
      "State(index=2, budget=5) Result(action='N', value=50.0)\n",
      "State(index=3, budget=5) Result(action='N', value=50.0)\n",
      "State(index=4, budget=5) Result(action='Y', value=50.0)\n",
      "sim 15:\n",
      "\n",
      "State(index=0, budget=10) Result(action='Y', value=107.5)\n",
      "State(index=1, budget=9) Result(action='Y', value=85.0)\n",
      "State(index=2, budget=7) Result(action='Y', value=60.0)\n",
      "State(index=3, budget=4) Result(action='Y', value=30.0)\n",
      "State(index=4, budget=2) Result(action='N', value=0)\n",
      "sim 16:\n",
      "\n",
      "State(index=0, budget=10) Result(action='Y', value=107.5)\n",
      "State(index=1, budget=9) Result(action='Y', value=85.0)\n",
      "State(index=2, budget=7) Result(action='Y', value=60.0)\n",
      "State(index=3, budget=4) Result(action='Y', value=30.0)\n",
      "State(index=4, budget=2) Result(action='N', value=0)\n",
      "sim 17:\n",
      "\n",
      "State(index=0, budget=10) Result(action='Y', value=107.5)\n",
      "State(index=1, budget=9) Result(action='Y', value=85.0)\n",
      "State(index=2, budget=7) Result(action='Y', value=60.0)\n",
      "State(index=3, budget=4) Result(action='Y', value=30.0)\n",
      "State(index=4, budget=2) Result(action='N', value=0)\n",
      "sim 18:\n",
      "\n",
      "State(index=0, budget=10) Result(action='Y', value=107.5)\n",
      "State(index=1, budget=9) Result(action='Y', value=85.0)\n",
      "State(index=2, budget=7) Result(action='Y', value=60.0)\n",
      "State(index=3, budget=4) Result(action='Y', value=30.0)\n",
      "State(index=4, budget=2) Result(action='N', value=0)\n",
      "sim 19:\n",
      "\n",
      "State(index=0, budget=10) Result(action='Y', value=107.5)\n",
      "State(index=1, budget=5) Result(action='N', value=50.0)\n",
      "State(index=2, budget=5) Result(action='N', value=50.0)\n",
      "State(index=3, budget=5) Result(action='N', value=50.0)\n",
      "State(index=4, budget=5) Result(action='Y', value=50.0)\n"
     ]
    }
   ],
   "source": [
    "# for state,res in lookup.items():\n",
    "#     print(state, res)\n",
    "\n",
    "for i in range(20):\n",
    "    print(f'sim {i}:\\n')\n",
    "    state = init_state\n",
    "    for _ in range(n):\n",
    "        res = knapsack(state)\n",
    "        print(state, res)\n",
    "        state = random.choice(transitions(state, res.action)).next_state"
   ]
  },
  {
   "cell_type": "markdown",
   "metadata": {},
   "source": [
    "# Fishing for Salmon Example\n",
    "\n",
    "lets take an example where we are fishing for salmon"
   ]
  },
  {
   "cell_type": "code",
   "execution_count": 5,
   "metadata": {},
   "outputs": [],
   "source": [
    "import random\n",
    "from collections import namedtuple\n",
    "index_mapping = {'e': 0,\n",
    "                 'l': 1,\n",
    "                 'm':2,\n",
    "                 'h':3\n",
    "                }\n",
    "\n",
    "# We always have these three things\n",
    "State = namedtuple(\"State\",['fish_level','index'])\n",
    "Transition = namedtuple('Transition', ['prob', 'next_state'])\n",
    "Result = namedtuple('Result', ['action', 'value'])\n",
    "\n",
    "FISHING_RETURNS = {'e': 0,\n",
    "                   'l': 5,\n",
    "                   'm': 10,\n",
    "                   'h': 50\n",
    "                  }\n",
    "def possible_actions(state: State):\n",
    "    \"\"\"\n",
    "    Creates the possible actions Fish or don't fish depending on the state.\n",
    "    N represents decision don't fish. F represents the decision to fish\n",
    "    \"\"\"\n",
    "    if state.fish_level == 'e':\n",
    "        return ['N']\n",
    "    return ['N','F']\n",
    "\n",
    "def immediate_value(state: State, action: str):\n",
    "    if state.fish_level == 'e':\n",
    "        return -200\n",
    "    if action == \"N\":\n",
    "        return 0\n",
    "    if action == 'F':\n",
    "        return FISHING_RETURNS[state.fish_level]\n"
   ]
  },
  {
   "cell_type": "code",
   "execution_count": 12,
   "metadata": {},
   "outputs": [],
   "source": [
    "reverse_index = {value:key for key,value in list(index_mapping.items())}"
   ]
  },
  {
   "cell_type": "code",
   "execution_count": 16,
   "metadata": {},
   "outputs": [],
   "source": [
    "FISHING_TRANSITION_MATRIX = [[0,1,0,0],\n",
    "                             [0.75, 0.25, 0, 0],\n",
    "                             [0, 0.75, 0.25, 0],\n",
    "                             [0, 0, 0.6, 0.5]\n",
    "                            ]\n",
    "\n",
    "NO_FISH_TRANSITION_MATRIX = [[0,1,0,0],\n",
    "                             [0, 0.3, 0.7, 0],\n",
    "                             [0, 0, 0.25, 0.75],\n",
    "                             [0, 0, 0.05, 0.95]\n",
    "                            ]\n",
    "\n",
    "\n",
    "def transitions(state: State, action: str):\n",
    "    if state.fish_level == 'e':\n",
    "        return [Transition(1, State(fish_level= 'l', index = index_mapping['l']))]\n",
    "\n",
    "    if action == 'N':\n",
    "        probability_row = NO_FISH_TRANSITION_MATRIX[state.index]  \n",
    "    else: \n",
    "        probability_row = FISHING_TRANSITION_MATRIX[state.index]\n",
    "    result = []\n",
    "    for to_idx, probability in enumerate(probability_row):\n",
    "        if probability:\n",
    "            #reverse index matching\n",
    "            new_state = State(reverse_index[to_idx], to_idx)\n",
    "            result.append(Transition(probability,new_state))\n",
    "    return result"
   ]
  },
  {
   "cell_type": "code",
   "execution_count": 19,
   "metadata": {},
   "outputs": [
    {
     "name": "stdout",
     "output_type": "stream",
     "text": [
      "test state: State(fish_level='e', index=0)\n",
      "action: N\n",
      "value: -200\n",
      "transitions: [Transition(prob=1, next_state=State(fish_level='l', index=1))]\n",
      "\n",
      "\n",
      "\n",
      "test state: State(fish_level='l', index=1)\n",
      "action: N\n",
      "value: 0\n",
      "transitions: [Transition(prob=0.3, next_state=State(fish_level='l', index=1)), Transition(prob=0.7, next_state=State(fish_level='m', index=2))]\n",
      "\n",
      "\n",
      "\n",
      "test state: State(fish_level='l', index=1)\n",
      "action: F\n",
      "value: 5\n",
      "transitions: [Transition(prob=0.75, next_state=State(fish_level='e', index=0)), Transition(prob=0.25, next_state=State(fish_level='l', index=1))]\n",
      "\n",
      "\n",
      "\n",
      "test state: State(fish_level='m', index=2)\n",
      "action: N\n",
      "value: 0\n",
      "transitions: [Transition(prob=0.25, next_state=State(fish_level='m', index=2)), Transition(prob=0.75, next_state=State(fish_level='h', index=3))]\n",
      "\n",
      "\n",
      "\n",
      "test state: State(fish_level='m', index=2)\n",
      "action: F\n",
      "value: 10\n",
      "transitions: [Transition(prob=0.75, next_state=State(fish_level='l', index=1)), Transition(prob=0.25, next_state=State(fish_level='m', index=2))]\n",
      "\n",
      "\n",
      "\n",
      "test state: State(fish_level='h', index=3)\n",
      "action: N\n",
      "value: 0\n",
      "transitions: [Transition(prob=0.05, next_state=State(fish_level='m', index=2)), Transition(prob=0.95, next_state=State(fish_level='h', index=3))]\n",
      "\n",
      "\n",
      "\n",
      "test state: State(fish_level='h', index=3)\n",
      "action: F\n",
      "value: 50\n",
      "transitions: [Transition(prob=0.6, next_state=State(fish_level='m', index=2)), Transition(prob=0.5, next_state=State(fish_level='h', index=3))]\n",
      "\n",
      "\n",
      "\n"
     ]
    }
   ],
   "source": [
    "def test_state_and_actions():\n",
    "    for level in index_mapping:\n",
    "        test_state = State(level, index_mapping[level])\n",
    "        actions = possible_actions(test_state)\n",
    "        for a in actions:\n",
    "            print(f\"test state: {test_state}\\n\"\n",
    "            f\"action: {a}\\n\"\n",
    "            f\"value: {immediate_value(test_state,a)}\\n\"\n",
    "            f\"transitions: {transitions(test_state, a)}\\n\\n\\n\")\n",
    "test_state_and_actions()"
   ]
  }
 ],
 "metadata": {
  "interpreter": {
   "hash": "ac2eaa0ea0ebeafcc7822e65e46aa9d4f966f30b695406963e145ea4a91cd4fc"
  },
  "kernelspec": {
   "display_name": "Python 3.9.6 64-bit",
   "language": "python",
   "name": "python3"
  },
  "language_info": {
   "codemirror_mode": {
    "name": "ipython",
    "version": 3
   },
   "file_extension": ".py",
   "mimetype": "text/x-python",
   "name": "python",
   "nbconvert_exporter": "python",
   "pygments_lexer": "ipython3",
   "version": "3.9.9"
  },
  "orig_nbformat": 4
 },
 "nbformat": 4,
 "nbformat_minor": 2
}
