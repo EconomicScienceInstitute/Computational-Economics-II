{
 "cells": [
  {
   "cell_type": "markdown",
   "metadata": {},
   "source": [
    "So we've started some of our journey onto bayesian probabilities.\n",
    "\n",
    "# Summary of Bayesian\n",
    "\n",
    "# Simple Probability Problem Jar of Marbles\n",
    "\n",
    "Let's say I have one jar of marbles. The it has 70 red marbles and 30 blue marbles. I pull marbles out and get the sequence Red, Blue, Blue, Red. What is the probability that I pulled this sequence?\n",
    "\n",
    "# Slightly More Challenging Probability Problem Jar of Marbles\n",
    "Let's say I pull the same sequence Red, Blue, Blue, Red, but instead I have a multiple jars and I don't know which one I pulled from. \n",
    "\n",
    "The jar could have 70 red and 30 blue. Or it could have 30 blue and 70 red. Or it could have 50 red and 50 blue. What is the probability that I pulled the sequence? What is the probability of each jar being the one I pulled from?"
   ]
  },
  {
   "cell_type": "code",
   "execution_count": null,
   "metadata": {},
   "outputs": [],
   "source": []
  },
  {
   "cell_type": "markdown",
   "metadata": {},
   "source": [
    "# Viterbi Algorithm\n",
    "\n",
    "Now lets use an example that is a bit more dynamic. Lets say that each time you pulled the marble, the jar either chagned or stayed the same. You might be asking when would this happen? Let's give some more realism to the example.\n",
    "\n",
    "Let's say we are a campaign team for an election. Your budget can only afford a poll that can reveal if red or blue is in the lead for the election.\n",
    "\n",
    "You know based on an expert's advice that there are 5 possible states\n",
    "\n",
    "A. There is a 99% chance blue will be in the lead\n",
    "\n",
    "B. There is a 75% chance blue will be in the lead\n",
    "\n",
    "C. There is a 50% chance blue will be in the lead\n",
    "\n",
    "D. There is a 25% chance blue will be in the lead\n",
    "\n",
    "E. There is a 1% chance blue will be in the lead\n",
    "\n",
    "To summarize, at any given point in time, we will know the history of observed values and their probabilities given a state. We also know the transition probabilities between states\n",
    "\n",
    "We call these observed values the emission probabilities and we will note it with the symbol $\\vec{y}$ where each $\\vec{y}_t$ gives us the emmision spectrum at time point t.\n",
    "\n",
    "What we want to do is figure out the state based on our information. To do that we must estimate the probability of every single state $\\vec{s}_t$ based on the emmision. That is we want to create an a posteriori (after the fact) estimation of $P(\\vec{s}_t | \\vec{y}_t)$\n",
    "\n",
    "\n"
   ]
  },
  {
   "cell_type": "markdown",
   "metadata": {},
   "source": [
    "## Math\n",
    "So we know $\\vec{y}_t$ and we need to calculate the most likely $\\vec{s}_t$. That means we need to maximize $P(\\vec{s}_t | \\vec{y}_t)$ with respect to $\\vec{s}_t$\n",
    "$$\\begin{align*}\n",
    "P(\\vec{s}_t | \\vec{y}_t) &\\propto\n",
    "P(\\vec{y}_t | \\vec{s}_t) P( \\vec{s}_t)\\\\\n",
    "&= \\prod_{t=1}^T P(y_t | s_t)P( \\vec{s}_t)\n",
    "\\end{align*}\n",
    "$$\n",
    "\n",
    "So this is kindof tricky becasue we need $P( \\vec{s}_t)$. We can use the rule of conditional probability\n",
    "\n",
    "$$\n",
    "\\begin{align*}\n",
    "P( \\vec{s}_t) &= P(s_1,s_2,s_3,...,s_{t-1},s_{t}) \\\\\n",
    "&= P(s_{t}|s_1,s_2,s_3,...,s_{t-1})P(s_1,s_2,s_3,...,s_{t-1}) \\\\\n",
    "\\end{align*}\n",
    "$$\n",
    "\n",
    "But we don't need all previous states. We only care about the relationships between $t-1$ and $t$ so $P(s_{t}|s_{t-1})P(s_1,s_2,s_3,...,s_{t-1}) = P(s_{t}|s_{t-1})P(s_{t-1})$\n",
    "$$\n",
    "\\begin{align*}\n",
    "P( \\vec{s}_t) &= P(s_1,s_2,s_3,...,s_{t-1},s_{t}) \\\\\n",
    "&= P(s_{t}|s_1,s_2,s_3,...,s_{t-1})P(s_1,s_2,s_3,...,s_{t-1}) \\\\\n",
    "&= P(s_{t}|s_{t-1})P(s_{t-1}|s_{t-2})P(s_1,s_2,s_3,...,s_{t-2}) \\\\\n",
    "\\dots\\\\\n",
    "&= P(s_{t}|s_{t-1})P(s_{t-1}|s_{t-2})...P(s_3|s_2)P(s_2|s_1)P(s_1)\\\\\n",
    "&= P(s_1) \\prod_{t=2}^T P(s_{t}|s_{t-1})\n",
    "\\end{align*}\n",
    "$$\n",
    "Putting that all together in our original equation we get\n",
    "\n",
    "$$P(\\vec{s}_t | \\vec{y}_t) \\propto \\prod_{t=1}^t P(y_t | s_t) P(s_1) \\prod_{t=2}^T P(s_{t}|s_{t-1})$$\n",
    "But we aren't good at optimizing over products, so we take the log of each side. Log is an order preserving homomorphism, so if we maximize the log, the same value should maximize the original.\n",
    "\n",
    "$$log \\left[ \n",
    "    P(\\vec{s}_t | \\vec{y}_t)\n",
    "    \\right] \\propto \\sum_{t=1}^t \n",
    "    log \\left[ P(y_t | s_t)\n",
    "    \\right] +\n",
    "    log \\left[ P(s_1)\n",
    "    \\right] +\n",
    "    \\sum_{t=2}^T log \\left[ P(s_{t}|s_{t-1})\n",
    "    \\right] \n",
    "$$\n",
    "     \n",
    "Now we can just use the bellman equation to back propogate and find the most likely outcome\n",
    "\n",
    "\n"
   ]
  },
  {
   "cell_type": "code",
   "execution_count": 3,
   "metadata": {},
   "outputs": [],
   "source": [
    "import numpy as np\n",
    "import random\n",
    "from collections import namedtuple\n",
    "# COVID EXAMPLE"
   ]
  },
  {
   "cell_type": "code",
   "execution_count": 6,
   "metadata": {},
   "outputs": [],
   "source": [
    "transitions = np.matrix([[0.99, 0.01],\n",
    "                        [0.2, 0.8]])\n",
    "emission_probs = np.array([[0.75,0.25],\n",
    "                           [0.005, 0.995]])\n",
    "cache = {}\n",
    "State = namedtuple('State', ['time', 'state'])\n",
    "\n",
    "prior = [0.5,0.5]\n",
    "\n",
    "def immediate_value(state, action):\n",
    "  if state.time < 0:\n",
    "    return np.log(prior[action])\n",
    "  emission = emissions[state.time]\n",
    "  if state.time == T-1:\n",
    "    return np.log(emission_probs[state.state, emission])\n",
    "  return np.log(emission_probs[state.state, emission]) + np.log(transitions[state.state, action])\n",
    "\n",
    "def possible_actions(state):\n",
    "  if state.time < 0:\n",
    "    return [i for i in range(n_states) if prior[i] > 0]\n",
    "  else:\n",
    "    return [i for i in range(n_states) if transitions[state.state, i] > 0]\n",
    "\n",
    "def next_state(state, action):\n",
    "  return State(state.time + 1, action)\n",
    "\n",
    "def bellman(state):\n",
    "  if state.time >= T:\n",
    "    return (0, '')\n",
    "  if state not in cache:\n",
    "    cache[state] = max((immediate_value(state,action) + bellman(next_state(state, action))[0], action) for action in possible_actions(state))\n",
    "  return cache[state]"
   ]
  },
  {
   "cell_type": "code",
   "execution_count": null,
   "metadata": {},
   "outputs": [],
   "source": []
  }
 ],
 "metadata": {
  "interpreter": {
   "hash": "ac2eaa0ea0ebeafcc7822e65e46aa9d4f966f30b695406963e145ea4a91cd4fc"
  },
  "kernelspec": {
   "display_name": "Python 3.9.6 64-bit",
   "language": "python",
   "name": "python3"
  },
  "language_info": {
   "codemirror_mode": {
    "name": "ipython",
    "version": 3
   },
   "file_extension": ".py",
   "mimetype": "text/x-python",
   "name": "python",
   "nbconvert_exporter": "python",
   "pygments_lexer": "ipython3",
   "version": "3.9.10"
  },
  "orig_nbformat": 4
 },
 "nbformat": 4,
 "nbformat_minor": 2
}
