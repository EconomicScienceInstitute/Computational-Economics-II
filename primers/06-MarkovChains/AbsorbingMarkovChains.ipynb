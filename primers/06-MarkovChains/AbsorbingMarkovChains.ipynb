{
 "cells": [
  {
   "cell_type": "markdown",
   "metadata": {},
   "source": [
    "# Absorbing Markov Chains\n",
    "[Absorbing Markov Chains](https://en.wikipedia.org/wiki/Absorbing_Markov_chain) are markov processes where each state has a path or a way to achieve an absorbing state. That is the overall probabilities\n",
    "\n",
    "# Drunkards Walk\n",
    "Let's take an example where, we have a drunk man. Let's say that he is walking home in a straight line. At position 0 there is his home. At position 3 there is the bar. If he ends up at either home or his bar he will stay there. For any position in between 0 and 3, (1 or 2) there is a 50 percent chance that they increase position by 1 and 50 percent chance they decrease their position by 1. He will never stay at position 1 or 2 for more than 2 rounds.\n",
    "\n",
    "Let's take what we have learned from Markov Processes and build a matrix.\n",
    "\n",
    "$$\n",
    "\\begin{align*}\n",
    "\\begin{pmatrix}\n",
    "1 & 0 & 0 & 0\\\\\n",
    "1/2 & 0 & 1/2 & 0\\\\\n",
    "0 & 1/2 & 0 & 1/2\\\\\n",
    "0 & 0 & 0 & 1\n",
    "\\end{pmatrix}\n",
    "\\end{align*}\n",
    "$$\n",
    "\n",
    "This matrix represents the transition matrix between the 4 positons or states. Now we want to change this into canonical form where all of the absorbing states are on the bottom right. This gives us some nice properties\n",
    "\n",
    "$$\n",
    "\\begin{align*}\n",
    "\\begin{pmatrix}\n",
    "0 & 1/2 & 1/2 & 0\\\\\n",
    "1/2& 0 & 0 & 1/2\\\\\n",
    "0 & 0 & 1 & 0\\\\\n",
    "0 & 0 & 0 & 1\n",
    "\\end{pmatrix}\\\\\n",
    "\\end{align*}\n",
    "$$\n",
    "\n",
    "We can abstract and generalize this format to be the following $A = \\begin{pmatrix}\n",
    "Q & R \\\\\n",
    "0 & I\n",
    "\\end{pmatrix}$ Where Q is the probability of moving between non-terminal states, R is the probability that we transition to a terminal state and $I$ is the identity matrix.\n",
    "\n",
    "The wikipedia page for Absorbing Markov chains has a great explanation of how we can use this property to solve problems."
   ]
  },
  {
   "cell_type": "code",
   "execution_count": 9,
   "metadata": {},
   "outputs": [],
   "source": [
    "import numpy as np\n",
    "from numpy.linalg import inv"
   ]
  },
  {
   "cell_type": "code",
   "execution_count": 2,
   "metadata": {},
   "outputs": [],
   "source": [
    "transition = [[0, 0.5, 0.5, 0],\n",
    " [0.5, 0, 0, 0.5],\n",
    " [0, 0, 1, 0],\n",
    " [0, 0, 0, 1]\n",
    " ]\n",
    "transition_matrix = np.matrix(transition)"
   ]
  },
  {
   "cell_type": "code",
   "execution_count": 6,
   "metadata": {},
   "outputs": [
    {
     "name": "stdout",
     "output_type": "stream",
     "text": [
      "num_turns = 1\n",
      "[[0.  0.5 0.5 0. ]\n",
      " [0.5 0.  0.  0.5]\n",
      " [0.  0.  1.  0. ]\n",
      " [0.  0.  0.  1. ]]\n",
      "num_turns = 10\n",
      "[[9.76562500e-04 0.00000000e+00 6.66015625e-01 3.33007812e-01]\n",
      " [0.00000000e+00 9.76562500e-04 3.33007812e-01 6.66015625e-01]\n",
      " [0.00000000e+00 0.00000000e+00 1.00000000e+00 0.00000000e+00]\n",
      " [0.00000000e+00 0.00000000e+00 0.00000000e+00 1.00000000e+00]]\n",
      "num_turns = 100\n",
      "[[7.88860905e-31 0.00000000e+00 6.66666667e-01 3.33333333e-01]\n",
      " [0.00000000e+00 7.88860905e-31 3.33333333e-01 6.66666667e-01]\n",
      " [0.00000000e+00 0.00000000e+00 1.00000000e+00 0.00000000e+00]\n",
      " [0.00000000e+00 0.00000000e+00 0.00000000e+00 1.00000000e+00]]\n",
      "num_turns = 1000\n",
      "[[9.33263619e-302 0.00000000e+000 6.66666667e-001 3.33333333e-001]\n",
      " [0.00000000e+000 9.33263619e-302 3.33333333e-001 6.66666667e-001]\n",
      " [0.00000000e+000 0.00000000e+000 1.00000000e+000 0.00000000e+000]\n",
      " [0.00000000e+000 0.00000000e+000 0.00000000e+000 1.00000000e+000]]\n",
      "num_turns = 10000\n",
      "[[0.         0.         0.66666667 0.33333333]\n",
      " [0.         0.         0.33333333 0.66666667]\n",
      " [0.         0.         1.         0.        ]\n",
      " [0.         0.         0.         1.        ]]\n",
      "num_turns = 100000\n",
      "[[0.         0.         0.66666667 0.33333333]\n",
      " [0.         0.         0.33333333 0.66666667]\n",
      " [0.         0.         1.         0.        ]\n",
      " [0.         0.         0.         1.        ]]\n",
      "num_turns = 1000000\n",
      "[[0.         0.         0.66666667 0.33333333]\n",
      " [0.         0.         0.33333333 0.66666667]\n",
      " [0.         0.         1.         0.        ]\n",
      " [0.         0.         0.         1.        ]]\n",
      "num_turns = 10000000\n",
      "[[0.         0.         0.66666667 0.33333333]\n",
      " [0.         0.         0.33333333 0.66666667]\n",
      " [0.         0.         1.         0.        ]\n",
      " [0.         0.         0.         1.        ]]\n"
     ]
    }
   ],
   "source": [
    "for i in range(8):\n",
    "    num_turns = 10**i\n",
    "    print(f\"num_turns = {num_turns}\")\n",
    "    print(transition_matrix**num_turns)"
   ]
  },
  {
   "cell_type": "code",
   "execution_count": 11,
   "metadata": {},
   "outputs": [
    {
     "name": "stdout",
     "output_type": "stream",
     "text": [
      "[[0.66666667 0.        ]\n",
      " [0.         0.66666667]]\n",
      "[[0.66666667 0.        ]\n",
      " [0.         0.66666667]]\n"
     ]
    }
   ],
   "source": [
    "Q = [[0, 0.5], [0.5,0]]\n",
    "R = [[0.5, 0],[0, 0.5]]\n",
    "I = np.identity(2)\n",
    "N = I-Q\n",
    "print(inv(N)*R)\n"
   ]
  }
 ],
 "metadata": {
  "interpreter": {
   "hash": "ac2eaa0ea0ebeafcc7822e65e46aa9d4f966f30b695406963e145ea4a91cd4fc"
  },
  "kernelspec": {
   "display_name": "Python 3.9.6 64-bit",
   "language": "python",
   "name": "python3"
  },
  "language_info": {
   "codemirror_mode": {
    "name": "ipython",
    "version": 3
   },
   "file_extension": ".py",
   "mimetype": "text/x-python",
   "name": "python",
   "nbconvert_exporter": "python",
   "pygments_lexer": "ipython3",
   "version": "3.9.9"
  },
  "orig_nbformat": 4
 },
 "nbformat": 4,
 "nbformat_minor": 2
}
