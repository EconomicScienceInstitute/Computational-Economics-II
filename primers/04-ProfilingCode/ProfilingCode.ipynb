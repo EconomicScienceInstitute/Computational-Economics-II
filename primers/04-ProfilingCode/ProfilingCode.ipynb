{
 "cells": [
  {
   "cell_type": "markdown",
   "metadata": {},
   "source": [
    "# What is Profiling\n",
    "\n",
    "At some point when you're writing big simulations or optimizers, you're going to wonder \"Why is my code running so slow?\" Can I make it any faster?\n",
    "\n",
    "For small problems we can do things like looking at data structures and algorithms or estimating Big O of our code, but that is much trickier for complex operations. When working with a language like Python a lot of the modules hide the actual implementation details, so it is hard. It is then much easier to do something like profiling your code.\n",
    "\n",
    "Profiling is the process of dynamically analyzing the performance of your program in order to identify issues with common parameters such as memory usage or time complexity.\n",
    "\n",
    "# When to Profile\n",
    "\n",
    "The number one rule of profiling is \"don't do it\". That is to say, if you need to profile your code, you have probably developed for too long without doing benchmarks or unit tests. If you get to a point where your code is doing what you want it to do, but it just isn't doing it fast enough, that's the time to break out the profiler and take a look under the hood.\n",
    "\n",
    "# How to Profile\n",
    "\n",
    "In python there are several packages that allow you to profile your code.\n",
    "\n",
    "Here is a [quick guide](https://towardsdatascience.com/how-to-profile-your-code-in-python-e70c834fad89) and here is [another] (https://www.toucantoco.com/en/tech-blog/python-performance-optimization) and here is [yet another](https://dev.to/thefern/profiling-python-with-cprofile-53jf) They're all great resources and I would recommend checking them out.\n",
    "\n",
    "But we can go a bit more in depth here. \n",
    "\n",
    "# Profiling using the CLI\n",
    "If you're comfortable with command line interface then I would recommend using the python `cProfile` package to do quick analysis of your programs\n",
    "\n",
    "## Displaying results:\n",
    "This program displays all of the functions called by your program and shows you how they can be displayed. You are able to sort the data in your choice of format. `tottime` or `cumtime`. Total time is the amount of time spent on this function only. This is great if you want to identify a subroutine that is taking up a lot of time. `cumtime` is the amount of time spent on a single function and all subfunctions\n",
    "\n",
    "`python -m cProfile -s tottime your_program.py <args>`\n",
    "\n",
    "## Outputting a file:\n",
    "Sometimes that's not enough and you want to know what's going on in your stack. That is you want to build a call graph or understand how functions relate to each other. For those more advanced operations, you're going to want to export a binary output that can be analyzed by a profile visualizer.\n",
    "\n",
    "`python -m cProfile -o output.file your_program.py <args>`\n",
    "\n",
    "# Profiling using Python\n",
    "\n",
    "Let's say that you want to do some custom profiling and only want to analyze parts of your code. We can do that with a custom profiling script and what we call a decorator or the @ symbol.\n",
    "\n",
    "## Line Profiler\n",
    "Line_profiler is a great tool to use for explanatory profiling, but we will use cProfile since we can do a bit more fun things with it. It is simple to use and gives you lots of information. Check out more info [here](https://medium.com/uncountable-engineering/pythons-line-profiler-32df2b07b290)\n",
    "\n",
    "## cProfile\n",
    "This is the standard profiling library in Python."
   ]
  },
  {
   "cell_type": "code",
   "execution_count": null,
   "metadata": {},
   "outputs": [],
   "source": [
    "import"
   ]
  },
  {
   "cell_type": "markdown",
   "metadata": {},
   "source": []
  }
 ],
 "metadata": {
  "language_info": {
   "name": "python"
  },
  "orig_nbformat": 4
 },
 "nbformat": 4,
 "nbformat_minor": 2
}
