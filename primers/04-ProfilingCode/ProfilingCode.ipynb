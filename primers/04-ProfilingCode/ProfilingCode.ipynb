{
 "cells": [
  {
   "cell_type": "markdown",
   "metadata": {},
   "source": [
    "# What is Profiling\n",
    "\n",
    "At some point when you're writing big simulations or optimizers, you're going to wonder \"Why is my code running so slow?\" Can I make it any faster?\n",
    "\n",
    "For small problems we can do things like looking at data structures and algorithms or estimating Big O of our code, but that is much trickier for complex operations. When working with a language like Python a lot of the modules hide the actual implementation details, so it is hard. It is then much easier to do something like profiling your code.\n",
    "\n",
    "Profiling is the process of dynamically analyzing the performance of your program in order to identify issues with common parameters such as memory usage or time complexity.\n",
    "\n",
    "# When to Profile\n",
    "\n",
    "The number one rule of profiling is \"don't do it\". That is to say, if you need to profile your code, you have probably developed for too long without doing benchmarks or unit tests. If you get to a point where your code is doing what you want it to do, but it just isn't doing it fast enough, that's the time to break out the profiler and take a look under the hood.\n",
    "\n",
    "# How to Profile\n",
    "\n",
    "In python there are several packages that allow you to profile your code.\n",
    "\n",
    "Here is a [quick guide](https://towardsdatascience.com/how-to-profile-your-code-in-python-e70c834fad89) and here is [another] (https://www.toucantoco.com/en/tech-blog/python-performance-optimization) and here is [yet another](https://dev.to/thefern/profiling-python-with-cprofile-53jf) They're all great resources and I would recommend checking them out.\n",
    "\n",
    "But we can go a bit more in depth here. \n",
    "\n",
    "# Profiling using the CLI\n",
    "If you're comfortable with command line interface then I would recommend using the python `cProfile` package to do quick analysis of your programs\n",
    "\n",
    "## Displaying results:\n",
    "This program displays all of the functions called by your program and shows you how they can be displayed. You are able to sort the data in your choice of format. `tottime` or `cumtime`. Total time is the amount of time spent on this function only. This is great if you want to identify a subroutine that is taking up a lot of time. `cumtime` is the amount of time spent on a single function and all subfunctions\n",
    "\n",
    "`python -m cProfile -s tottime your_program.py <args>`\n",
    "\n",
    "## Outputting a file:\n",
    "Sometimes that's not enough and you want to know what's going on in your stack. That is you want to build a call graph or understand how functions relate to each other. For those more advanced operations, you're going to want to export a binary output that can be analyzed by a profile visualizer.\n",
    "\n",
    "`python -m cProfile -o output.file your_program.py <args>`\n",
    "\n",
    "# Profiling using Python\n",
    "\n",
    "Let's say that you want to do some custom profiling and only want to analyze parts of your code. We can do that with a custom profiling script and what we call a decorator or the @ symbol.\n",
    "\n",
    "## Line Profiler\n",
    "Line_profiler is a great tool to use for explanatory profiling, but we will use cProfile since we can do a bit more fun things with it. It is simple to use and gives you lots of information. Check out more info [here](https://medium.com/uncountable-engineering/pythons-line-profiler-32df2b07b290)\n",
    "\n",
    "## cProfile\n",
    "This is the standard profiling library in Python."
   ]
  },
  {
   "cell_type": "code",
   "execution_count": null,
   "metadata": {},
   "outputs": [],
   "source": [
    "import cProfile\n",
    "import pstats\n",
    "profiler = cProfile.Profile()  # create profiler object\n",
    "profiler.enable()  # enable profiler\n",
    "\n",
    "... # Do stuff here\n",
    "...\n",
    "...\n",
    "\n",
    "profiler.disable()  # disable profiler"
   ]
  },
  {
   "cell_type": "markdown",
   "metadata": {},
   "source": [
    "# Displaying outputs of Profiling\n",
    "\n",
    "In python once we have our general code, we are going to want to view it and read it somehow. If you want to interpret your data using csv here is the code example below. We basically want to create a pstats object from our profiler and edit it into a format that looks human readable."
   ]
  },
  {
   "cell_type": "code",
   "execution_count": null,
   "metadata": {},
   "outputs": [],
   "source": [
    "file_name = f\"output\"\n",
    "\n",
    "# Function that makes pstats somewhat readable. \n",
    "# You can check out the ones from the tutorials too\n",
    "result = io.StringIO()\n",
    "ps = pstats.Stats(profiler, stream=result).sort_stats(sort_key)\n",
    "ps.print_stats()\n",
    "result = result.getvalue()\n",
    "# chop the string into a csv-like buffer\n",
    "result = \"ncalls\" + result.split(\"ncalls\")[-1]\n",
    "result = \"\\n\".join([\",\".join(line.rstrip().split(None, 5))\n",
    "                    for line in result.split(\"\\n\")])\n",
    "# save it to disk\n",
    "with open(f\"destination_folder/{file_name}.csv\", \"w\") as write_profile:\n",
    "    write_profile.write(result)\n",
    "    write_profile.close()\n",
    "\n"
   ]
  },
  {
   "cell_type": "markdown",
   "metadata": {},
   "source": [
    "# Using visualizers\n",
    "\n",
    "Alternatively, we can use tools built outside of python to accomplish something similar. We just need to dump our profiling file and get the binary."
   ]
  },
  {
   "cell_type": "code",
   "execution_count": null,
   "metadata": {},
   "outputs": [],
   "source": [
    "# results to binary file\n",
    "destination = f\"destinationfolder/{file_name}.cprof\"\n",
    "profiler.dump_stats(destination)"
   ]
  },
  {
   "cell_type": "markdown",
   "metadata": {},
   "source": [
    "From there we can either use a callgraph or snake graph to view our outputs.\n",
    "\n",
    "## Visualizing Profiler\n",
    "\n",
    "```shell\n",
    "python3 -m pip install --upgrade pip setuptools wheel\n",
    "python3 -m pip install snakeviz\n",
    "python3 -m pip install graphviz\n",
    "brew install graphviz\n",
    "```\n",
    "### SnakeViz\n",
    "\n",
    "[SnakeViz](https://jiffyclub.github.io/snakeviz/) is a library that creates two types of graphs and a table on an interactive HTML that can be launched in your browser.\n",
    "\n",
    "With both the Icicle graph and sunburst graph, the cumulative time is represented by the area. You are able to adjust the zoom and the root of the graph by clicking. Double clicking in an empty space sets the root to the parent of the current root if it exists.\n",
    "\n",
    "The icicle graph uses a rectangular geometry, while sunburst uses a radial geometry for its axis. You are able to close the terminal by pressing `CTRL+C`\n",
    "\n",
    "#### Icicle Graph\n",
    "\n",
    "![SnakeViz Icicle Graph example ](https://jiffyclub.github.io/snakeviz/img/icicle.png)\n",
    "\n",
    "#### Sunburst Graph\n",
    "\n",
    "![SnakeViz Sunburst Graph Example](https://jiffyclub.github.io/snakeviz/img/sunburst.png)\n",
    "\n",
    "#### Table\n",
    "\n",
    "![SnakeViz Table](https://jiffyclub.github.io/snakeviz/img/stats_table.png)\n",
    "\n",
    "The output also contains an interactive table that lets you search for functions, sort by different keys, and filter the graph.\n",
    "\n",
    "### GProf2Dot\n",
    "\n",
    "GProf2dot takes in a binary file, takes the pstats interpretation and outputs it to a graphviz map.\n",
    "\n",
    "```shell\n",
    "gprof2dot -f pstats {input_file} | dot -Tpng -o {output_file}\n",
    "```\n",
    "\n",
    "![GProf2Dot](https://github.com/jrfonseca/gprof2dot/blob/master/sample.png?raw=true)\n",
    "\n",
    "\n",
    "### Automating Shell Script\n",
    "Sometimes, it's hard to know which type of graph is the most useful and it can be difficult to call everything from the command line.\n",
    "\n",
    "save the below script as `profileviz.sh`\n",
    "\n",
    "``` \n",
    "#!/bin/zsh\n",
    "FILE=$1\n",
    "gprof2dot -f pstats \"$FILE\" | dot -Tpng -o \"${FILE%%.*}\".png\n",
    "snakeviz \"$FILE\"\n",
    "```\n",
    "\n",
    "and call it from the terminal with the `*.cprof` file the positional argument. \n",
    "\n",
    "#### Call the script from Terminal\n",
    "\n",
    "```shell\n",
    "sh profileviz.sh myfile.cprof\n",
    "```"
   ]
  },
  {
   "cell_type": "markdown",
   "metadata": {},
   "source": []
  }
 ],
 "metadata": {
  "interpreter": {
   "hash": "ac2eaa0ea0ebeafcc7822e65e46aa9d4f966f30b695406963e145ea4a91cd4fc"
  },
  "kernelspec": {
   "display_name": "Python 3.9.6 64-bit",
   "language": "python",
   "name": "python3"
  },
  "language_info": {
   "name": "python",
   "version": "3.9.9"
  },
  "orig_nbformat": 4
 },
 "nbformat": 4,
 "nbformat_minor": 2
}
