{
 "cells": [
  {
   "cell_type": "markdown",
   "source": [
    "# Recursion\n",
    "\n",
    "Recursion is defined by any process that is recursive in nature.\n",
    "\n",
    "Just kidding.\n",
    "\n",
    "Recursion is a process that defines each case in relation to some base case.\n",
    "\n",
    "## Recursion in Math\n",
    "\n",
    "The most common example recursive relationship is the Fibbonacci seqence. Each term is the sum of the previous two.\n",
    "\n",
    "$$\\begin{align*}\n",
    "F_0 &= 0 \\\\\n",
    "F_1 &= 1 \\\\\n",
    "F_{n} &= F_{n-1} + F_{n-2}\n",
    "\\end{align*}\n",
    "$$\n",
    "\n",
    "Let's discuss the anatomy of this series. This will be common among all recursive relations.\n",
    "$$\\begin{align*}\n",
    "F_2 &= F_{2-1} + F_{2-2} \\\\\n",
    "&= F_{1} + F_{0} \\\\\n",
    "&= 1 + 0 = 1\\\\\n",
    "F_3 &= F_2 + F_1\\\\ \n",
    "&= 1+ 1 = 2\n",
    "\\end{align*}\n",
    "$$\n",
    "\n",
    "### Base Case\n",
    "Each recursive series needs a base case to determine its start. In the case of Fibbonacci we have two base cases $F_0$ and $F_1$.\n",
    "\n",
    "### Recursive Relation\n",
    "Recursive relationships are defined using a term in a recursive sequence defined as a function of its previous terms. In this case our recursive relationship is addingthe previous two terms. This is often called the transition. It is how we get from one term to the next\n",
    "\n",
    "### Practice\n",
    "Define the following sequences as recursive functions\n",
    "* $1,2,3,4,5, ...$\n",
    "* $2,4,6,8,10, ...$\n",
    "* $2,4,8,16,32, ...$\n",
    "* $1,2,6,24, ...$"
   ],
   "metadata": {
    "collapsed": false
   }
  },
  {
   "cell_type": "markdown",
   "source": [
    "### Practice solutions\n",
    "\n",
    "$\n",
    "\\begin{gather*}\n",
    "1,2,3,4,5 \\\\\n",
    "H_0 =1\\\\\n",
    "H_{n} = H_{n-1}+1\\\\\n",
    "2,4,6,8,10\n",
    "\\end{gather*}\n",
    "$\n",
    "\n",
    "Recursive\n",
    "$\n",
    "\\begin{gather*}\n",
    "H_0 =2\\\\\n",
    "H_{n} = H_{n-1}+2\n",
    "\\end{gather*}\n",
    "$\n",
    "Closed form\n",
    "$\n",
    "\\begin{gather*}\n",
    "H_{n} = 2\\cdot n\n",
    "\\end{gather*}\n",
    "$\n",
    "\n",
    "$$2,4,8,16,..$$\n",
    "Recursive\n",
    "$$H_0 =2$$\n",
    "$$H_{n} = H_{n-1}*2$$\n",
    "Closed form\n",
    "$$H_{n} = 2^ n$$\n",
    "\n",
    "$$1,2,6,24,...$$\n",
    "\n",
    "$\\begin{align*}\n",
    "    H_0 &= 1\\\\\n",
    "    H_n &= n*H_{n-1}\n",
    "\\end{align*}$"
   ],
   "metadata": {
    "collapsed": false
   }
  },
  {
   "cell_type": "markdown",
   "source": [
    "## Recursion in Code\n",
    "Let's look at an implementation of Fibbonacci sequence\n",
    "$\\begin{align*}\n",
    "F_0 &= 0 \\\\\n",
    "F_1 &= 1 \\\\\n",
    "F_{n} &= F_{n-1} + F_{n-2}\n",
    "\\end{align*}\n",
    "$"
   ],
   "metadata": {
    "collapsed": false
   }
  },
  {
   "cell_type": "code",
   "execution_count": null,
   "outputs": [],
   "source": [
    "def fib(n:int)->int:\n",
    "    if n == 0:\n",
    "        return 0\n",
    "    elif n == 1:\n",
    "        return 1\n",
    "    else:\n",
    "        return fib(n-1) + fib(n-2)"
   ],
   "metadata": {
    "collapsed": false,
    "pycharm": {
     "name": "#%%\n"
    }
   }
  },
  {
   "cell_type": "code",
   "execution_count": null,
   "outputs": [],
   "source": [
    "n = 20\n",
    "for i in range(n):\n",
    "    print(fib(i))"
   ],
   "metadata": {
    "collapsed": false,
    "pycharm": {
     "name": "#%%\n"
    }
   }
  },
  {
   "cell_type": "markdown",
   "source": [
    "It might look like black magic, but recursion is a common pattern in python and can be very useful to implement complex relationships. This is the most literal use of recursion but there are other ways we can do this. Try doing some practice problems below\n",
    "\n",
    "### Practice\n",
    "Define the following sequences as recursive functions\n",
    "* $1,2,3,4,5, ...$\n",
    "* $2,4,6,8,10, ...$\n",
    "* $2,4,8,16,32, ...$\n",
    "* $1,2,6,24, ...$"
   ],
   "metadata": {
    "collapsed": false
   }
  },
  {
   "cell_type": "markdown",
   "source": [
    "# Speed concerns\n",
    "Try running it for n = 200"
   ],
   "metadata": {
    "collapsed": false
   }
  },
  {
   "cell_type": "code",
   "execution_count": null,
   "outputs": [],
   "source": [
    "fib(200)"
   ],
   "metadata": {
    "collapsed": false,
    "pycharm": {
     "name": "#%%\n"
    }
   }
  },
  {
   "cell_type": "markdown",
   "source": [
    "How do we improve it? Let's use storage"
   ],
   "metadata": {
    "collapsed": false
   }
  },
  {
   "cell_type": "code",
   "execution_count": null,
   "outputs": [],
   "source": [
    "cache = {}\n",
    "def improved_fib(n: int):\n",
    "    if n == 0:\n",
    "        return 0\n",
    "    elif n == 1:\n",
    "        return 1\n",
    "    elif n in cache:\n",
    "        return cache[n]\n",
    "    else:\n",
    "        cache[n] = improved_fib(n-1) + improved_fib(n-2)\n",
    "        return cache[n]"
   ],
   "metadata": {
    "collapsed": false,
    "pycharm": {
     "name": "#%%\n"
    }
   }
  },
  {
   "cell_type": "code",
   "execution_count": null,
   "outputs": [],
   "source": [
    "cache = {0:0,1:1}\n",
    "def improved_fib(n: int):\n",
    "    if n not in cache:\n",
    "        cache[n] = improved_fib(n-1) + improved_fib(n-2)\n",
    "    return cache[n]"
   ],
   "metadata": {
    "collapsed": false,
    "pycharm": {
     "name": "#%%\n"
    }
   }
  },
  {
   "cell_type": "code",
   "execution_count": null,
   "outputs": [],
   "source": [
    "cache = {0:0,1:1}\n",
    "n = 100\n",
    "for i in range(n):\n",
    "    if i not in cache:\n",
    "        improved_fib(i-1) + improved_fib(i-2)\n",
    "result = cache(n)\n"
   ],
   "metadata": {
    "collapsed": false,
    "pycharm": {
     "name": "#%%\n"
    }
   }
  },
  {
   "cell_type": "code",
   "execution_count": null,
   "outputs": [],
   "source": [
    "improved_fib(20)\n",
    "cache"
   ],
   "metadata": {
    "collapsed": false,
    "pycharm": {
     "name": "#%%\n"
    }
   }
  },
  {
   "cell_type": "code",
   "execution_count": null,
   "outputs": [],
   "source": [
    "fib(20)"
   ],
   "metadata": {
    "collapsed": false,
    "pycharm": {
     "name": "#%%\n"
    }
   }
  },
  {
   "cell_type": "code",
   "execution_count": null,
   "outputs": [],
   "source": [
    "cache = {}\n",
    "# rewrite using recursion\n",
    "def factorial(n):\n",
    "    result = 1\n",
    "    for i in range(n):\n",
    "        result *= i\n",
    "    return result"
   ],
   "metadata": {
    "collapsed": false,
    "pycharm": {
     "name": "#%%\n"
    }
   }
  },
  {
   "cell_type": "markdown",
   "source": [],
   "metadata": {
    "collapsed": false
   }
  },
  {
   "cell_type": "code",
   "execution_count": null,
   "outputs": [],
   "source": [
    "def factorial_test() -> bool:\n",
    "    known_factorials = [1,1,2,6,24,60]\n",
    "    for idx,val in enumerate(known_factorials):\n",
    "        if n != factorial(i):\n",
    "            raise ValueError(f\"We are messed up! {i} {factorial(i)} {n}\")\n",
    "\n",
    "factorial_test()"
   ],
   "metadata": {
    "collapsed": false,
    "pycharm": {
     "name": "#%%\n"
    }
   }
  },
  {
   "cell_type": "markdown",
   "source": [
    "# Climbing a Staircase - Easy Mode\n",
    "https://leetcode.com/problems/climbing-stairs/\n",
    "\n",
    "You are climbing a staircase. It takes n steps to reach the top.\n",
    "\n",
    "Each time you can either climb 1 or 2 steps. In how many distinct ways can you climb to the top?"
   ],
   "metadata": {
    "collapsed": false
   }
  },
  {
   "cell_type": "code",
   "execution_count": null,
   "outputs": [],
   "source": [],
   "metadata": {
    "collapsed": false,
    "pycharm": {
     "name": "#%%\n"
    }
   }
  },
  {
   "cell_type": "markdown",
   "source": [
    "# 1 Climbing a Staircase\n",
    "\n",
    "Suppose that you have staircase with n steps on it. You can go up 1, 2, or 3 steps at a time.\n",
    "\n",
    "How many different ways can you climb up the staircase?"
   ],
   "metadata": {
    "collapsed": false
   }
  },
  {
   "cell_type": "markdown",
   "source": [
    "# 2 Tower of Hanoi\n",
    "\n",
    "Tower of Hanoi is a mathematical puzzle where we have three rods and n disks. The objective of the puzzle is to move the entire stack to another rod, obeying the following simple rules: \n",
    "\n",
    "Only one disk can be moved at a time.\n",
    "Each move consists of taking the upper disk from one of the stacks and placing it on top of another stack i.e. a disk can only be moved if it is the uppermost disk on a stack.\n",
    "No disk may be placed on top of a smaller disk.\n",
    "Approach : "
   ],
   "metadata": {
    "collapsed": false
   }
  },
  {
   "cell_type": "markdown",
   "source": [
    "# 3 Staircase of Bricks\n",
    "you have n bricks and want to make a staircase.\n",
    "\n",
    "Restriction:\n",
    "- must have at least two steps\n",
    "- step height is always decreasing\n",
    "\n",
    "How many unique staircases can you make?\n",
    "\n"
   ],
   "metadata": {
    "collapsed": false
   }
  },
  {
   "cell_type": "code",
   "execution_count": null,
   "outputs": [],
   "source": [],
   "metadata": {
    "collapsed": false,
    "pycharm": {
     "name": "#%%\n"
    }
   }
  }
 ],
 "metadata": {
  "interpreter": {
   "hash": "bbf22f26862e0c47c069489a5ea5213fdf3d567e4a28a450e612aba0c67ee8e6"
  },
  "kernelspec": {
   "display_name": "Python 3.9.4 64-bit",
   "name": "python3"
  },
  "language_info": {
   "codemirror_mode": {
    "name": "ipython",
    "version": 3
   },
   "file_extension": ".py",
   "mimetype": "text/x-python",
   "name": "python",
   "nbconvert_exporter": "python",
   "pygments_lexer": "ipython3",
   "version": "3.8.8"
  },
  "orig_nbformat": 4
 },
 "nbformat": 4,
 "nbformat_minor": 2
}