{
 "cells": [
  {
   "cell_type": "markdown",
   "metadata": {},
   "source": [
    "# How to submit problems\n",
    "Problems should be solved in a modular manner. A chunk of code or a loop that does a specific task should be in its own function. With its own inputs. For each function you write, you should create a test to make sure\n",
    "\n",
    "## Writing tests for functions\n",
    "When testing we must understand the problem: base cases, edge cases, typical cases, etc.\n",
    "\n",
    "### Base Cases\n",
    "Base cases are cases that the problem should be able to handle and that the problem relies on as an assumption. For example the fibbonacci function relies heavily on the fact that we have two base values to initialize at.\n",
    "\n",
    "### Typical Cases\n",
    "\n",
    "This should be a case that you would expect most of your function should behave similar to. This is just making sure that easy cases are easy to solve\n",
    "\n",
    "### Edge Cases\n",
    "\n",
    "When writing your algorithm, there may be some cases that break it. To identify the edge cases of a problem, you should take a look at the input domain. Just like in math we want to think about how to handle assymptotes and indeterminate values, we want to know the limitations of our problem and how we can handle them.\n",
    "\n",
    "# This Assignment\n",
    "\n",
    "For each of these dynamic programming problems your assignment is to solve them using both top-down (memoization) and bottom-up (tabulation) methods of dynamic programming. For each implementation, use the time package in order to benchmark your performance. That is, in addition to printing and returning your answer, how long does it take your computer to form that answer? You should include any time spent \n",
    "\n",
    "We will go over the high level ideas for the solution in class; however, implementation will be homework. You are free to work together and collaborate or work individually. The purpose of this task is to practice programming not overwhelm you, so please reach out to the professor if this takes too long as he does not know how to estimate the effort of a task.\n",
    "\n"
   ]
  },
  {
   "cell_type": "markdown",
   "metadata": {},
   "source": [
    "# Word Wrap\n",
    "The extra spaces includes spaces put at the end of every line except the last one.  \n",
    "The problem is to minimize the following total cost.\n",
    " Cost of a line = (Number of extra spaces in the line)^3\n",
    " Total Cost = Sum of costs for all lines\n",
    "\n",
    "For example, consider the following string and line width M = 15\n",
    " \"Geeks for Geeks presents word wrap problem\" \n",
    "     \n",
    "Following is the optimized arrangement of words in 3 lines\n",
    "\n",
    "Geeks for Geeks\n",
    "\n",
    "presents word  \n",
    "\n",
    "wrap problem \n",
    "\n",
    "The total extra spaces in line 1, line 2 and line 3 are 0, 2 and 3 respectively. \n",
    "So optimal value of total cost is $0^3 + 2^3 + 3^3 = 35$"
   ]
  },
  {
   "cell_type": "code",
   "execution_count": null,
   "metadata": {},
   "outputs": [],
   "source": [
    "import time\n",
    "\n",
    "def word_wrap(text: str, M):\n",
    "    \"\"\"\n",
    "    \"\"\"\n",
    "    (num_lines, score)\n",
    "\n",
    "start = time.time()\n",
    "\n",
    "## Do your stuff\n",
    "\n",
    "end = time.time()\n",
    "\n",
    "\n",
    "total_time = end - start\n"
   ]
  },
  {
   "cell_type": "markdown",
   "metadata": {},
   "source": [
    "# Egg Drop\n",
    "\n",
    "You are given k identical eggs and you have access to a building with n floors labeled from 1 to n.\n",
    "\n",
    "You know that there exists a floor f where 0 <= f <= n such that any egg dropped at a floor higher than f will break, and any egg dropped at or below floor f will not break.\n",
    "\n",
    "Each move, you may take an unbroken egg and drop it from any floor x (where 1 <= x <= n). If the egg breaks, you can no longer use it. However, if the egg does not break, you may reuse it in future moves.\n",
    "\n",
    "Return the minimum number of moves that you need to determine with certainty what the value of f is."
   ]
  },
  {
   "cell_type": "code",
   "execution_count": null,
   "metadata": {},
   "outputs": [],
   "source": []
  },
  {
   "cell_type": "markdown",
   "metadata": {},
   "source": [
    "# Healthcare\n",
    "\n",
    "Let's do a simplified version of the healthcare experiment, because the ESI loves healthcare.\n",
    "\n",
    "The objective funciton that we would like to maximize is our joy function. Our joy is calculated at the end of every round by  \n",
    "\n",
    "$ Joy = c\\cdot \\frac{health}{100} \\cdot \\frac{life\\_inv}{life\\_inv + a}$\n",
    "\n",
    "Where you invest your choice of $life\\_inv$, and c is a constant. \n",
    "\n",
    "Your income every round is determined by your harvest. Let's use the simplest harvest function where your harvest is equal to your health\n",
    "$Harvest = health$\n",
    "\n",
    "You health starts at 100 and degenerates before collecting income at the end of every round. the amount it degenerates increases every period\n",
    "$degenerated\\_health = health - (10 + period)$\n",
    "\n",
    "$endhealth = 100 \\frac{e^{k * health\\_inv}} {e^{k \\cdot health\\_inv}} + \\frac{100 - degened\\_health} {degened\\_health}$\n",
    "\n",
    "Each round you must make the optimal decision to invest in either health or life investment. You are required to use all cash each round. Try to find the solution for a starting health of 100 and 10 rounds."
   ]
  },
  {
   "cell_type": "code",
   "execution_count": null,
   "metadata": {},
   "outputs": [],
   "source": []
  },
  {
   "cell_type": "code",
   "execution_count": null,
   "metadata": {},
   "outputs": [],
   "source": []
  }
 ],
 "metadata": {
  "language_info": {
   "name": "python"
  },
  "orig_nbformat": 4
 },
 "nbformat": 4,
 "nbformat_minor": 2
}